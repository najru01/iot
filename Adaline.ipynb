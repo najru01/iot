{
 "cells": [
  {
   "cell_type": "code",
   "execution_count": 1,
   "id": "ba1a5001-9473-44ca-83df-76e86e10a008",
   "metadata": {},
   "outputs": [
    {
     "name": "stdout",
     "output_type": "stream",
     "text": [
      "Predictions on the AND operation:\n",
      "Input: [0 0] => Predicted: 0 => Actual: 0\n",
      "Input: [0 1] => Predicted: 0 => Actual: 0\n",
      "Input: [1 0] => Predicted: 0 => Actual: 0\n",
      "Input: [1 1] => Predicted: 1 => Actual: 1\n"
     ]
    }
   ],
   "source": [
    "import numpy as np\n",
    "\n",
    "class Adaline:\n",
    "    def __init__(self, input_size, learning_rate=0.1, epochs=100):\n",
    "        self.weights = np.zeros(input_size)\n",
    "        self.bias = 0\n",
    "        self.learning_rate = learning_rate\n",
    "        self.epochs = epochs\n",
    "\n",
    "    def activation(self, x):\n",
    "        # Linear activation (identity function)\n",
    "        return x\n",
    "\n",
    "    def predict(self, X):\n",
    "        # Compute the linear output\n",
    "        return self.activation(np.dot(X, self.weights) + self.bias)\n",
    "\n",
    "    def train(self, X, y):\n",
    "        # Train the model using Adaline's learning rule (Least Mean Squares)\n",
    "        for epoch in range(self.epochs):\n",
    "            for i in range(len(X)):\n",
    "                # Calculate the prediction\n",
    "                prediction = self.predict(X[i])\n",
    "\n",
    "                # Compute the error\n",
    "                error = y[i] - prediction\n",
    "\n",
    "                # Update the weights and bias\n",
    "                self.weights += self.learning_rate * error * X[i]\n",
    "                self.bias += self.learning_rate * error\n",
    "\n",
    "    def evaluate(self, X):\n",
    "        # Make predictions for the input X\n",
    "        return np.where(self.predict(X) >= 0.5, 1, 0)  # Convert to binary output\n",
    "\n",
    "# AND operation input and output\n",
    "X = np.array([[0, 0], [0, 1], [1, 0], [1, 1]])  # Input pairs\n",
    "y = np.array([0, 0, 0, 1])  # AND outputs\n",
    "\n",
    "# Initialize Adaline model with 2 input features (for A and B), learning rate, and epochs\n",
    "adaline = Adaline(input_size=2, learning_rate=0.1, epochs=100)\n",
    "\n",
    "# Train the Adaline model\n",
    "adaline.train(X, y)\n",
    "\n",
    "# Evaluate the trained model on the same inputs (X)\n",
    "predictions = adaline.evaluate(X)\n",
    "\n",
    "print(\"Predictions on the AND operation:\")\n",
    "for i, prediction in enumerate(predictions):\n",
    "    print(f\"Input: {X[i]} => Predicted: {prediction} => Actual: {y[i]}\")\n"
   ]
  },
  {
   "cell_type": "code",
   "execution_count": null,
   "id": "86253da1-c258-4025-93e8-9fe85b5de580",
   "metadata": {},
   "outputs": [],
   "source": []
  },
  {
   "cell_type": "code",
   "execution_count": null,
   "id": "9ab86258-00ab-4e55-a010-e67ebc4e8078",
   "metadata": {},
   "outputs": [],
   "source": []
  }
 ],
 "metadata": {
  "kernelspec": {
   "display_name": "Python 3 (ipykernel)",
   "language": "python",
   "name": "python3"
  },
  "language_info": {
   "codemirror_mode": {
    "name": "ipython",
    "version": 3
   },
   "file_extension": ".py",
   "mimetype": "text/x-python",
   "name": "python",
   "nbconvert_exporter": "python",
   "pygments_lexer": "ipython3",
   "version": "3.11.7"
  }
 },
 "nbformat": 4,
 "nbformat_minor": 5
}
