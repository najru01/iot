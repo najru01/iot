{
 "cells": [
  {
   "cell_type": "code",
   "execution_count": 2,
   "id": "5426af74-71f7-4779-867d-ee8c7d80ffe3",
   "metadata": {},
   "outputs": [],
   "source": [
    "#importing numpy library "
   ]
  },
  {
   "cell_type": "code",
   "execution_count": 3,
   "id": "f3a66bf7-76ec-4824-b83b-e450f0ab99ba",
   "metadata": {},
   "outputs": [],
   "source": [
    "import numpy as np"
   ]
  },
  {
   "cell_type": "code",
   "execution_count": 4,
   "id": "5ee7c1cf-631b-400a-966e-47e7fa352708",
   "metadata": {},
   "outputs": [],
   "source": [
    "l=[\"horse\",\"dog\",\"cat\"]"
   ]
  },
  {
   "cell_type": "code",
   "execution_count": 5,
   "id": "23bf52af-a4ab-4810-9577-ce676f8736c9",
   "metadata": {},
   "outputs": [
    {
     "data": {
      "text/plain": [
       "['horse', 'dog', 'cat']"
      ]
     },
     "execution_count": 5,
     "metadata": {},
     "output_type": "execute_result"
    }
   ],
   "source": [
    "l"
   ]
  },
  {
   "cell_type": "code",
   "execution_count": 6,
   "id": "b39c7e7b-518f-4b63-b8ac-c5fe0cbf5e54",
   "metadata": {},
   "outputs": [],
   "source": [
    "#sorting the given list using sort()"
   ]
  },
  {
   "cell_type": "code",
   "execution_count": 8,
   "id": "55821dd6-9070-486f-a5a4-10b687856112",
   "metadata": {},
   "outputs": [
    {
     "data": {
      "text/plain": [
       "['cat', 'dog', 'horse']"
      ]
     },
     "execution_count": 8,
     "metadata": {},
     "output_type": "execute_result"
    }
   ],
   "source": [
    "l.sort()\n",
    "l"
   ]
  },
  {
   "cell_type": "code",
   "execution_count": 9,
   "id": "b6210cc1-b239-4777-b479-bbd1a02d8fd6",
   "metadata": {},
   "outputs": [],
   "source": [
    "#list function"
   ]
  },
  {
   "cell_type": "code",
   "execution_count": 10,
   "id": "0f912d84-a255-4900-8458-650d074d9158",
   "metadata": {},
   "outputs": [],
   "source": [
    "li=list(range(6))"
   ]
  },
  {
   "cell_type": "code",
   "execution_count": 11,
   "id": "54a396ee-9258-4972-a234-4b7a21487f5d",
   "metadata": {},
   "outputs": [
    {
     "data": {
      "text/plain": [
       "[0, 1, 2, 3, 4, 5]"
      ]
     },
     "execution_count": 11,
     "metadata": {},
     "output_type": "execute_result"
    }
   ],
   "source": [
    "li"
   ]
  },
  {
   "cell_type": "code",
   "execution_count": 12,
   "id": "1bbfcaf4-dae7-4d90-9985-d26a53885ed8",
   "metadata": {},
   "outputs": [],
   "source": [
    "#creating tuple"
   ]
  },
  {
   "cell_type": "code",
   "execution_count": 13,
   "id": "67fea9e1-f9de-4079-9b41-76ff2c33cae9",
   "metadata": {},
   "outputs": [],
   "source": [
    "a=('Alex',32)"
   ]
  },
  {
   "cell_type": "code",
   "execution_count": 14,
   "id": "5c46df25-1c7e-4edd-b252-b32e10639c37",
   "metadata": {},
   "outputs": [
    {
     "data": {
      "text/plain": [
       "('Alex', 32)"
      ]
     },
     "execution_count": 14,
     "metadata": {},
     "output_type": "execute_result"
    }
   ],
   "source": [
    "a"
   ]
  },
  {
   "cell_type": "code",
   "execution_count": 15,
   "id": "91bff53c-5fa5-4543-bfe7-9b62ac6378b4",
   "metadata": {},
   "outputs": [],
   "source": [
    "b='Seema',26"
   ]
  },
  {
   "cell_type": "code",
   "execution_count": 16,
   "id": "10783a2e-43e8-4a61-bee9-01019d5e8ab1",
   "metadata": {},
   "outputs": [
    {
     "data": {
      "text/plain": [
       "('Seema', 26)"
      ]
     },
     "execution_count": 16,
     "metadata": {},
     "output_type": "execute_result"
    }
   ],
   "source": [
    "b"
   ]
  },
  {
   "cell_type": "code",
   "execution_count": 17,
   "id": "b87e1edd-ecd6-4d7e-b0d2-ca896834b8b5",
   "metadata": {},
   "outputs": [
    {
     "name": "stdout",
     "output_type": "stream",
     "text": [
      "32\n"
     ]
    }
   ],
   "source": [
    "print(a[1])"
   ]
  },
  {
   "cell_type": "code",
   "execution_count": 18,
   "id": "9329b53c-6d37-40c9-8c26-a2b43eb8a476",
   "metadata": {},
   "outputs": [
    {
     "name": "stdout",
     "output_type": "stream",
     "text": [
      "Seema\n"
     ]
    }
   ],
   "source": [
    "print(b[0])"
   ]
  },
  {
   "cell_type": "code",
   "execution_count": 19,
   "id": "df98532c-2c25-4af6-9802-0e4de2770d0d",
   "metadata": {},
   "outputs": [],
   "source": [
    "#1 dimensional array "
   ]
  },
  {
   "cell_type": "code",
   "execution_count": 20,
   "id": "068eb232-f79c-4957-9568-2f7750cb5fe5",
   "metadata": {},
   "outputs": [],
   "source": [
    "a=np.array([2,4,6,8])"
   ]
  },
  {
   "cell_type": "code",
   "execution_count": 21,
   "id": "65c84f92-2a17-4499-bd7d-3a5dfa9bc0b2",
   "metadata": {},
   "outputs": [
    {
     "data": {
      "text/plain": [
       "array([2, 4, 6, 8])"
      ]
     },
     "execution_count": 21,
     "metadata": {},
     "output_type": "execute_result"
    }
   ],
   "source": [
    "a"
   ]
  },
  {
   "cell_type": "code",
   "execution_count": 22,
   "id": "45fa1ce7-5430-4bde-88cd-fb2532493caf",
   "metadata": {},
   "outputs": [
    {
     "data": {
      "text/plain": [
       "dtype('int32')"
      ]
     },
     "execution_count": 22,
     "metadata": {},
     "output_type": "execute_result"
    }
   ],
   "source": [
    "a.dtype"
   ]
  },
  {
   "cell_type": "code",
   "execution_count": 23,
   "id": "b9debe14-ebd8-4a69-b30b-cbff372095d8",
   "metadata": {},
   "outputs": [],
   "source": [
    "a=np.array([2,4,6,8],np.int64)"
   ]
  },
  {
   "cell_type": "code",
   "execution_count": 24,
   "id": "84f21f10-3af1-47ab-8516-c0783a260039",
   "metadata": {},
   "outputs": [
    {
     "data": {
      "text/plain": [
       "array([2, 4, 6, 8], dtype=int64)"
      ]
     },
     "execution_count": 24,
     "metadata": {},
     "output_type": "execute_result"
    }
   ],
   "source": [
    "a"
   ]
  },
  {
   "cell_type": "code",
   "execution_count": 25,
   "id": "4b2864a3-9785-4248-b8cd-3b89eb5874f1",
   "metadata": {},
   "outputs": [
    {
     "data": {
      "text/plain": [
       "array([2, 4, 6, 8], dtype=int64)"
      ]
     },
     "execution_count": 25,
     "metadata": {},
     "output_type": "execute_result"
    }
   ],
   "source": [
    "a"
   ]
  },
  {
   "cell_type": "code",
   "execution_count": 28,
   "id": "4b6e1869-10a1-4e99-b543-82d329eabdbf",
   "metadata": {},
   "outputs": [
    {
     "data": {
      "text/plain": [
       "4"
      ]
     },
     "execution_count": 28,
     "metadata": {},
     "output_type": "execute_result"
    }
   ],
   "source": [
    "a[1]"
   ]
  },
  {
   "cell_type": "code",
   "execution_count": 31,
   "id": "aaccd369-7d16-49a4-8f0e-e5bf4c1069cc",
   "metadata": {},
   "outputs": [
    {
     "data": {
      "text/plain": [
       "(4,)"
      ]
     },
     "execution_count": 31,
     "metadata": {},
     "output_type": "execute_result"
    }
   ],
   "source": [
    "a.shape"
   ]
  },
  {
   "cell_type": "code",
   "execution_count": null,
   "id": "7a8fea3c-d9d6-46c2-8819-36e813765a86",
   "metadata": {},
   "outputs": [],
   "source": []
  },
  {
   "cell_type": "code",
   "execution_count": 32,
   "id": "eef725e1-28b4-46a8-861d-c574fac5a3a2",
   "metadata": {},
   "outputs": [],
   "source": [
    "#creating 2D array "
   ]
  },
  {
   "cell_type": "code",
   "execution_count": 33,
   "id": "32abd0a7-43f8-4c6f-b7da-2eac72bfee4a",
   "metadata": {},
   "outputs": [],
   "source": [
    "listarr=np.array([[1,1,1],[2,2,2]])"
   ]
  },
  {
   "cell_type": "code",
   "execution_count": 34,
   "id": "1e554a89-80d8-46ab-8f8f-20a336c5c86d",
   "metadata": {},
   "outputs": [
    {
     "data": {
      "text/plain": [
       "array([[1, 1, 1],\n",
       "       [2, 2, 2]])"
      ]
     },
     "execution_count": 34,
     "metadata": {},
     "output_type": "execute_result"
    }
   ],
   "source": [
    "listarr"
   ]
  },
  {
   "cell_type": "code",
   "execution_count": 37,
   "id": "76c292a2-9d22-4bdc-a262-5ed2f36e867d",
   "metadata": {},
   "outputs": [],
   "source": [
    "a=np.array([[3,4,5,6,7],[2,6,8,9,1]])"
   ]
  },
  {
   "cell_type": "code",
   "execution_count": 38,
   "id": "fe71efbc-be73-4a42-85c6-d0a6e2694f9d",
   "metadata": {},
   "outputs": [
    {
     "data": {
      "text/plain": [
       "array([[3, 4, 5, 6, 7],\n",
       "       [2, 6, 8, 9, 1]])"
      ]
     },
     "execution_count": 38,
     "metadata": {},
     "output_type": "execute_result"
    }
   ],
   "source": [
    "a"
   ]
  },
  {
   "cell_type": "code",
   "execution_count": 39,
   "id": "c5ac6f73-7d86-471c-8280-55f8a28f76f0",
   "metadata": {},
   "outputs": [
    {
     "data": {
      "text/plain": [
       "9"
      ]
     },
     "execution_count": 39,
     "metadata": {},
     "output_type": "execute_result"
    }
   ],
   "source": [
    "a[1,3]"
   ]
  },
  {
   "cell_type": "code",
   "execution_count": 40,
   "id": "141d8f42-0f3d-4984-9bc7-1835727a3c9d",
   "metadata": {},
   "outputs": [
    {
     "data": {
      "text/plain": [
       "9"
      ]
     },
     "execution_count": 40,
     "metadata": {},
     "output_type": "execute_result"
    }
   ],
   "source": [
    "a[1][3]"
   ]
  },
  {
   "cell_type": "code",
   "execution_count": 41,
   "id": "0690ad0f-bdee-4e71-a92c-d7c71a984c2f",
   "metadata": {},
   "outputs": [],
   "source": [
    "#secific row"
   ]
  },
  {
   "cell_type": "code",
   "execution_count": 42,
   "id": "1da3970d-46d5-40f2-9139-aa7a5cfe6387",
   "metadata": {},
   "outputs": [
    {
     "data": {
      "text/plain": [
       "array([3, 4, 5, 6, 7])"
      ]
     },
     "execution_count": 42,
     "metadata": {},
     "output_type": "execute_result"
    }
   ],
   "source": [
    "a[0]"
   ]
  },
  {
   "cell_type": "code",
   "execution_count": 44,
   "id": "d1780d74-123d-4079-88aa-50f550521955",
   "metadata": {},
   "outputs": [
    {
     "data": {
      "text/plain": [
       "array([3, 4, 5, 6, 7])"
      ]
     },
     "execution_count": 44,
     "metadata": {},
     "output_type": "execute_result"
    }
   ],
   "source": [
    "a[0, :]"
   ]
  },
  {
   "cell_type": "code",
   "execution_count": 45,
   "id": "ccdb9825-d24d-44c1-8d10-9c5bdfcdba06",
   "metadata": {},
   "outputs": [
    {
     "data": {
      "text/plain": [
       "array([5, 8])"
      ]
     },
     "execution_count": 45,
     "metadata": {},
     "output_type": "execute_result"
    }
   ],
   "source": [
    "a[:,2]"
   ]
  },
  {
   "cell_type": "code",
   "execution_count": 46,
   "id": "7ddec866-9fab-441b-97f2-222709b85e9b",
   "metadata": {},
   "outputs": [],
   "source": [
    "#3d array"
   ]
  },
  {
   "cell_type": "code",
   "execution_count": 47,
   "id": "5bcd0784-814c-44c8-af06-fe1aa621430f",
   "metadata": {},
   "outputs": [],
   "source": [
    "t=np.array([[[1,2],[3,4]],[[5,6],[7,8]]])"
   ]
  },
  {
   "cell_type": "code",
   "execution_count": 48,
   "id": "49a0611b-73f8-4661-ae16-2b0045fb6c00",
   "metadata": {},
   "outputs": [
    {
     "data": {
      "text/plain": [
       "array([[[1, 2],\n",
       "        [3, 4]],\n",
       "\n",
       "       [[5, 6],\n",
       "        [7, 8]]])"
      ]
     },
     "execution_count": 48,
     "metadata": {},
     "output_type": "execute_result"
    }
   ],
   "source": [
    "t"
   ]
  },
  {
   "cell_type": "code",
   "execution_count": 49,
   "id": "99c7b76f-82cd-4adb-8c2c-a2c17847a9da",
   "metadata": {},
   "outputs": [
    {
     "data": {
      "text/plain": [
       "4"
      ]
     },
     "execution_count": 49,
     "metadata": {},
     "output_type": "execute_result"
    }
   ],
   "source": [
    "t[0,1,1]"
   ]
  },
  {
   "cell_type": "code",
   "execution_count": 50,
   "id": "4141e5c7-76b1-4a39-a8e1-2b233b539322",
   "metadata": {},
   "outputs": [],
   "source": [
    "#creating array of zeros"
   ]
  },
  {
   "cell_type": "code",
   "execution_count": 51,
   "id": "122b0362-c3f0-454a-b9fe-02c0d717b0f5",
   "metadata": {},
   "outputs": [],
   "source": [
    "z=np.zeros((2,4))"
   ]
  },
  {
   "cell_type": "code",
   "execution_count": 52,
   "id": "6b842fe1-a450-43a9-b638-d719f7f01067",
   "metadata": {},
   "outputs": [
    {
     "data": {
      "text/plain": [
       "array([[0., 0., 0., 0.],\n",
       "       [0., 0., 0., 0.]])"
      ]
     },
     "execution_count": 52,
     "metadata": {},
     "output_type": "execute_result"
    }
   ],
   "source": [
    "z"
   ]
  },
  {
   "cell_type": "code",
   "execution_count": 53,
   "id": "ce6c1040-c640-47ca-92f6-b23046befa07",
   "metadata": {},
   "outputs": [],
   "source": [
    "#creating array of ones"
   ]
  },
  {
   "cell_type": "code",
   "execution_count": 57,
   "id": "c9bc979b-796e-43a1-a3f6-60dcc81633ca",
   "metadata": {},
   "outputs": [
    {
     "data": {
      "text/plain": [
       "array([[[1., 1., 1., 1.],\n",
       "        [1., 1., 1., 1.],\n",
       "        [1., 1., 1., 1.]],\n",
       "\n",
       "       [[1., 1., 1., 1.],\n",
       "        [1., 1., 1., 1.],\n",
       "        [1., 1., 1., 1.]]])"
      ]
     },
     "execution_count": 57,
     "metadata": {},
     "output_type": "execute_result"
    }
   ],
   "source": [
    "z=np.ones((2,3,4))\n",
    "z"
   ]
  },
  {
   "cell_type": "code",
   "execution_count": 58,
   "id": "a3f821f7-fac2-40cc-8961-3b9e09ec35fb",
   "metadata": {},
   "outputs": [],
   "source": [
    "#arange(): it gives range of array"
   ]
  },
  {
   "cell_type": "code",
   "execution_count": 60,
   "id": "24b54be0-c53a-453b-8481-8295fe48e4d7",
   "metadata": {},
   "outputs": [
    {
     "data": {
      "text/plain": [
       "array([0, 1, 2, 3, 4, 5, 6, 7, 8])"
      ]
     },
     "execution_count": 60,
     "metadata": {},
     "output_type": "execute_result"
    }
   ],
   "source": [
    "x=np.arange(9)\n",
    "x"
   ]
  },
  {
   "cell_type": "code",
   "execution_count": null,
   "id": "6a40fb97-586b-4efd-9bf7-bfea368c18ef",
   "metadata": {},
   "outputs": [],
   "source": []
  }
 ],
 "metadata": {
  "kernelspec": {
   "display_name": "Python 3 (ipykernel)",
   "language": "python",
   "name": "python3"
  },
  "language_info": {
   "codemirror_mode": {
    "name": "ipython",
    "version": 3
   },
   "file_extension": ".py",
   "mimetype": "text/x-python",
   "name": "python",
   "nbconvert_exporter": "python",
   "pygments_lexer": "ipython3",
   "version": "3.11.7"
  }
 },
 "nbformat": 4,
 "nbformat_minor": 5
}
