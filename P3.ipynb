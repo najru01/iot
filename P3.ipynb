{
 "cells": [
  {
   "cell_type": "code",
   "execution_count": 1,
   "id": "8738b9c4-87d1-4c48-9e69-4eab85735352",
   "metadata": {},
   "outputs": [],
   "source": [
    "#Pandas Library "
   ]
  },
  {
   "cell_type": "code",
   "execution_count": 2,
   "id": "97f6180b-e659-40a4-9613-fbc21e52a7b9",
   "metadata": {},
   "outputs": [],
   "source": [
    "import numpy as np"
   ]
  },
  {
   "cell_type": "code",
   "execution_count": 3,
   "id": "707b4172-eb7f-4a94-8d0a-d50f921e88af",
   "metadata": {},
   "outputs": [],
   "source": [
    "import pandas as pd"
   ]
  },
  {
   "cell_type": "code",
   "execution_count": 4,
   "id": "b74979c0-87aa-443d-9217-e433ad3960fd",
   "metadata": {},
   "outputs": [],
   "source": [
    "dict={\"name\":['seema','pooja','rekha'],\n",
    "      \"class\":['fymca','symca','tymca'],\n",
    "      \"rollno\":[99,88,77]}"
   ]
  },
  {
   "cell_type": "code",
   "execution_count": 5,
   "id": "ac86fa22-0504-43b1-9d91-493cf8553ce0",
   "metadata": {},
   "outputs": [
    {
     "data": {
      "text/plain": [
       "{'name': ['seema', 'pooja', 'rekha'],\n",
       " 'class': ['fymca', 'symca', 'tymca'],\n",
       " 'rollno': [99, 88, 77]}"
      ]
     },
     "execution_count": 5,
     "metadata": {},
     "output_type": "execute_result"
    }
   ],
   "source": [
    "dict"
   ]
  },
  {
   "cell_type": "code",
   "execution_count": 6,
   "id": "395b3ef4-9804-41f8-8b31-abf48cd22232",
   "metadata": {},
   "outputs": [],
   "source": [
    "#Creating DataFrame using dictionary"
   ]
  },
  {
   "cell_type": "code",
   "execution_count": 7,
   "id": "03cc978e-36ed-469f-8f2e-77489c10342f",
   "metadata": {},
   "outputs": [],
   "source": [
    "dtframe=pd.DataFrame(dict)"
   ]
  },
  {
   "cell_type": "code",
   "execution_count": 8,
   "id": "3affb232-c106-4cde-8496-25a643e7705b",
   "metadata": {},
   "outputs": [
    {
     "data": {
      "text/html": [
       "<div>\n",
       "<style scoped>\n",
       "    .dataframe tbody tr th:only-of-type {\n",
       "        vertical-align: middle;\n",
       "    }\n",
       "\n",
       "    .dataframe tbody tr th {\n",
       "        vertical-align: top;\n",
       "    }\n",
       "\n",
       "    .dataframe thead th {\n",
       "        text-align: right;\n",
       "    }\n",
       "</style>\n",
       "<table border=\"1\" class=\"dataframe\">\n",
       "  <thead>\n",
       "    <tr style=\"text-align: right;\">\n",
       "      <th></th>\n",
       "      <th>name</th>\n",
       "      <th>class</th>\n",
       "      <th>rollno</th>\n",
       "    </tr>\n",
       "  </thead>\n",
       "  <tbody>\n",
       "    <tr>\n",
       "      <th>0</th>\n",
       "      <td>seema</td>\n",
       "      <td>fymca</td>\n",
       "      <td>99</td>\n",
       "    </tr>\n",
       "    <tr>\n",
       "      <th>1</th>\n",
       "      <td>pooja</td>\n",
       "      <td>symca</td>\n",
       "      <td>88</td>\n",
       "    </tr>\n",
       "    <tr>\n",
       "      <th>2</th>\n",
       "      <td>rekha</td>\n",
       "      <td>tymca</td>\n",
       "      <td>77</td>\n",
       "    </tr>\n",
       "  </tbody>\n",
       "</table>\n",
       "</div>"
      ],
      "text/plain": [
       "    name  class  rollno\n",
       "0  seema  fymca      99\n",
       "1  pooja  symca      88\n",
       "2  rekha  tymca      77"
      ]
     },
     "execution_count": 8,
     "metadata": {},
     "output_type": "execute_result"
    }
   ],
   "source": [
    "dtframe"
   ]
  },
  {
   "cell_type": "code",
   "execution_count": null,
   "id": "42bb051f-06b4-4f2c-9f26-ae4aaac5d86f",
   "metadata": {},
   "outputs": [],
   "source": []
  },
  {
   "cell_type": "code",
   "execution_count": 9,
   "id": "c373bcf7-0576-4cee-9760-aaaab8c765e6",
   "metadata": {},
   "outputs": [],
   "source": [
    "#Creating csv of the dataframe"
   ]
  },
  {
   "cell_type": "code",
   "execution_count": 10,
   "id": "5cdd32af-1b21-43a2-a0af-bf7a61708da9",
   "metadata": {},
   "outputs": [],
   "source": [
    "dtframe.to_csv('st.csv')"
   ]
  },
  {
   "cell_type": "code",
   "execution_count": 11,
   "id": "54f23f22-785a-43c0-a7cd-f4a55e24e5b4",
   "metadata": {},
   "outputs": [
    {
     "data": {
      "text/html": [
       "<div>\n",
       "<style scoped>\n",
       "    .dataframe tbody tr th:only-of-type {\n",
       "        vertical-align: middle;\n",
       "    }\n",
       "\n",
       "    .dataframe tbody tr th {\n",
       "        vertical-align: top;\n",
       "    }\n",
       "\n",
       "    .dataframe thead th {\n",
       "        text-align: right;\n",
       "    }\n",
       "</style>\n",
       "<table border=\"1\" class=\"dataframe\">\n",
       "  <thead>\n",
       "    <tr style=\"text-align: right;\">\n",
       "      <th></th>\n",
       "      <th>name</th>\n",
       "      <th>class</th>\n",
       "      <th>rollno</th>\n",
       "    </tr>\n",
       "  </thead>\n",
       "  <tbody>\n",
       "    <tr>\n",
       "      <th>0</th>\n",
       "      <td>seema</td>\n",
       "      <td>fymca</td>\n",
       "      <td>99</td>\n",
       "    </tr>\n",
       "    <tr>\n",
       "      <th>1</th>\n",
       "      <td>pooja</td>\n",
       "      <td>symca</td>\n",
       "      <td>88</td>\n",
       "    </tr>\n",
       "    <tr>\n",
       "      <th>2</th>\n",
       "      <td>rekha</td>\n",
       "      <td>tymca</td>\n",
       "      <td>77</td>\n",
       "    </tr>\n",
       "  </tbody>\n",
       "</table>\n",
       "</div>"
      ],
      "text/plain": [
       "    name  class  rollno\n",
       "0  seema  fymca      99\n",
       "1  pooja  symca      88\n",
       "2  rekha  tymca      77"
      ]
     },
     "execution_count": 11,
     "metadata": {},
     "output_type": "execute_result"
    }
   ],
   "source": [
    "dtframe"
   ]
  },
  {
   "cell_type": "code",
   "execution_count": 12,
   "id": "885f9a9c-91c1-4b1f-a75a-a02323fd51b5",
   "metadata": {},
   "outputs": [],
   "source": [
    "#Eliminating index column"
   ]
  },
  {
   "cell_type": "code",
   "execution_count": 13,
   "id": "fb04b7c3-a0db-4d10-8dec-e6094f4f6e03",
   "metadata": {},
   "outputs": [],
   "source": [
    "dtframe.to_csv('indx_false_st.csv',index=False)"
   ]
  },
  {
   "cell_type": "code",
   "execution_count": 14,
   "id": "c23a49e4-4399-4676-bda5-e046b8ff452c",
   "metadata": {},
   "outputs": [],
   "source": [
    "#head() method"
   ]
  },
  {
   "cell_type": "code",
   "execution_count": 15,
   "id": "eff95a37-f671-4885-a00e-b520d5d5fbba",
   "metadata": {},
   "outputs": [
    {
     "data": {
      "text/html": [
       "<div>\n",
       "<style scoped>\n",
       "    .dataframe tbody tr th:only-of-type {\n",
       "        vertical-align: middle;\n",
       "    }\n",
       "\n",
       "    .dataframe tbody tr th {\n",
       "        vertical-align: top;\n",
       "    }\n",
       "\n",
       "    .dataframe thead th {\n",
       "        text-align: right;\n",
       "    }\n",
       "</style>\n",
       "<table border=\"1\" class=\"dataframe\">\n",
       "  <thead>\n",
       "    <tr style=\"text-align: right;\">\n",
       "      <th></th>\n",
       "      <th>name</th>\n",
       "      <th>class</th>\n",
       "      <th>rollno</th>\n",
       "    </tr>\n",
       "  </thead>\n",
       "  <tbody>\n",
       "    <tr>\n",
       "      <th>0</th>\n",
       "      <td>seema</td>\n",
       "      <td>fymca</td>\n",
       "      <td>99</td>\n",
       "    </tr>\n",
       "    <tr>\n",
       "      <th>1</th>\n",
       "      <td>pooja</td>\n",
       "      <td>symca</td>\n",
       "      <td>88</td>\n",
       "    </tr>\n",
       "    <tr>\n",
       "      <th>2</th>\n",
       "      <td>rekha</td>\n",
       "      <td>tymca</td>\n",
       "      <td>77</td>\n",
       "    </tr>\n",
       "  </tbody>\n",
       "</table>\n",
       "</div>"
      ],
      "text/plain": [
       "    name  class  rollno\n",
       "0  seema  fymca      99\n",
       "1  pooja  symca      88\n",
       "2  rekha  tymca      77"
      ]
     },
     "execution_count": 15,
     "metadata": {},
     "output_type": "execute_result"
    }
   ],
   "source": [
    "dtframe.head()"
   ]
  },
  {
   "cell_type": "code",
   "execution_count": 16,
   "id": "f6a5ef89-3f07-4ac1-abcc-f6c2baab78fa",
   "metadata": {},
   "outputs": [],
   "source": [
    "#we can pass specific value in head() method"
   ]
  },
  {
   "cell_type": "code",
   "execution_count": 17,
   "id": "dba22a40-0cfd-4132-b152-05f80cba787f",
   "metadata": {},
   "outputs": [
    {
     "data": {
      "text/html": [
       "<div>\n",
       "<style scoped>\n",
       "    .dataframe tbody tr th:only-of-type {\n",
       "        vertical-align: middle;\n",
       "    }\n",
       "\n",
       "    .dataframe tbody tr th {\n",
       "        vertical-align: top;\n",
       "    }\n",
       "\n",
       "    .dataframe thead th {\n",
       "        text-align: right;\n",
       "    }\n",
       "</style>\n",
       "<table border=\"1\" class=\"dataframe\">\n",
       "  <thead>\n",
       "    <tr style=\"text-align: right;\">\n",
       "      <th></th>\n",
       "      <th>name</th>\n",
       "      <th>class</th>\n",
       "      <th>rollno</th>\n",
       "    </tr>\n",
       "  </thead>\n",
       "  <tbody>\n",
       "    <tr>\n",
       "      <th>0</th>\n",
       "      <td>seema</td>\n",
       "      <td>fymca</td>\n",
       "      <td>99</td>\n",
       "    </tr>\n",
       "    <tr>\n",
       "      <th>1</th>\n",
       "      <td>pooja</td>\n",
       "      <td>symca</td>\n",
       "      <td>88</td>\n",
       "    </tr>\n",
       "  </tbody>\n",
       "</table>\n",
       "</div>"
      ],
      "text/plain": [
       "    name  class  rollno\n",
       "0  seema  fymca      99\n",
       "1  pooja  symca      88"
      ]
     },
     "execution_count": 17,
     "metadata": {},
     "output_type": "execute_result"
    }
   ],
   "source": [
    "dtframe.head(2)"
   ]
  },
  {
   "cell_type": "code",
   "execution_count": 18,
   "id": "ddcbdbaa-d8df-45a8-9db5-239b01581b00",
   "metadata": {},
   "outputs": [],
   "source": [
    "#read_csv() method"
   ]
  },
  {
   "cell_type": "code",
   "execution_count": 19,
   "id": "137a48cf-2d68-4108-b00a-60a29285d090",
   "metadata": {},
   "outputs": [],
   "source": [
    "#reading csv file "
   ]
  },
  {
   "cell_type": "code",
   "execution_count": 20,
   "id": "48298c77-3693-4864-9f59-0241cf084b0a",
   "metadata": {},
   "outputs": [],
   "source": [
    "democsv=pd.read_csv('st.csv')"
   ]
  },
  {
   "cell_type": "code",
   "execution_count": 21,
   "id": "e8143aab-0207-457f-a919-ebfce048c86d",
   "metadata": {},
   "outputs": [
    {
     "data": {
      "text/html": [
       "<div>\n",
       "<style scoped>\n",
       "    .dataframe tbody tr th:only-of-type {\n",
       "        vertical-align: middle;\n",
       "    }\n",
       "\n",
       "    .dataframe tbody tr th {\n",
       "        vertical-align: top;\n",
       "    }\n",
       "\n",
       "    .dataframe thead th {\n",
       "        text-align: right;\n",
       "    }\n",
       "</style>\n",
       "<table border=\"1\" class=\"dataframe\">\n",
       "  <thead>\n",
       "    <tr style=\"text-align: right;\">\n",
       "      <th></th>\n",
       "      <th>Unnamed: 0</th>\n",
       "      <th>name</th>\n",
       "      <th>class</th>\n",
       "      <th>rollno</th>\n",
       "    </tr>\n",
       "  </thead>\n",
       "  <tbody>\n",
       "    <tr>\n",
       "      <th>0</th>\n",
       "      <td>0</td>\n",
       "      <td>seema</td>\n",
       "      <td>fymca</td>\n",
       "      <td>99</td>\n",
       "    </tr>\n",
       "    <tr>\n",
       "      <th>1</th>\n",
       "      <td>1</td>\n",
       "      <td>pooja</td>\n",
       "      <td>symca</td>\n",
       "      <td>88</td>\n",
       "    </tr>\n",
       "    <tr>\n",
       "      <th>2</th>\n",
       "      <td>2</td>\n",
       "      <td>rekha</td>\n",
       "      <td>tymca</td>\n",
       "      <td>77</td>\n",
       "    </tr>\n",
       "  </tbody>\n",
       "</table>\n",
       "</div>"
      ],
      "text/plain": [
       "   Unnamed: 0   name  class  rollno\n",
       "0           0  seema  fymca      99\n",
       "1           1  pooja  symca      88\n",
       "2           2  rekha  tymca      77"
      ]
     },
     "execution_count": 21,
     "metadata": {},
     "output_type": "execute_result"
    }
   ],
   "source": [
    "democsv"
   ]
  },
  {
   "cell_type": "code",
   "execution_count": 22,
   "id": "1b4e8203-f9f9-4666-9a47-980b582910db",
   "metadata": {},
   "outputs": [],
   "source": [
    "#create csv file and read it using to_read() method"
   ]
  },
  {
   "cell_type": "code",
   "execution_count": 23,
   "id": "6b0b96dd-d2b0-434a-a5fe-6d1d4f663de1",
   "metadata": {},
   "outputs": [],
   "source": [
    "demopd=pd.read_csv('stat.csv')"
   ]
  },
  {
   "cell_type": "code",
   "execution_count": 24,
   "id": "30aaa15d-0639-4098-afc1-561380f1dfa8",
   "metadata": {},
   "outputs": [
    {
     "data": {
      "text/html": [
       "<div>\n",
       "<style scoped>\n",
       "    .dataframe tbody tr th:only-of-type {\n",
       "        vertical-align: middle;\n",
       "    }\n",
       "\n",
       "    .dataframe tbody tr th {\n",
       "        vertical-align: top;\n",
       "    }\n",
       "\n",
       "    .dataframe thead th {\n",
       "        text-align: right;\n",
       "    }\n",
       "</style>\n",
       "<table border=\"1\" class=\"dataframe\">\n",
       "  <thead>\n",
       "    <tr style=\"text-align: right;\">\n",
       "      <th></th>\n",
       "      <th>prod_id</th>\n",
       "      <th>prod_name</th>\n",
       "      <th>prod_loc</th>\n",
       "    </tr>\n",
       "  </thead>\n",
       "  <tbody>\n",
       "    <tr>\n",
       "      <th>0</th>\n",
       "      <td>1001</td>\n",
       "      <td>bag</td>\n",
       "      <td>andheri</td>\n",
       "    </tr>\n",
       "    <tr>\n",
       "      <th>1</th>\n",
       "      <td>3009</td>\n",
       "      <td>shoe</td>\n",
       "      <td>parle</td>\n",
       "    </tr>\n",
       "    <tr>\n",
       "      <th>2</th>\n",
       "      <td>2114</td>\n",
       "      <td>glares</td>\n",
       "      <td>dadar</td>\n",
       "    </tr>\n",
       "    <tr>\n",
       "      <th>3</th>\n",
       "      <td>3221</td>\n",
       "      <td>book</td>\n",
       "      <td>bandra</td>\n",
       "    </tr>\n",
       "    <tr>\n",
       "      <th>4</th>\n",
       "      <td>4006</td>\n",
       "      <td>pen</td>\n",
       "      <td>kurla</td>\n",
       "    </tr>\n",
       "  </tbody>\n",
       "</table>\n",
       "</div>"
      ],
      "text/plain": [
       "   prod_id prod_name prod_loc\n",
       "0     1001       bag  andheri\n",
       "1     3009      shoe    parle\n",
       "2     2114    glares    dadar\n",
       "3     3221      book   bandra\n",
       "4     4006       pen    kurla"
      ]
     },
     "execution_count": 24,
     "metadata": {},
     "output_type": "execute_result"
    }
   ],
   "source": [
    "demopd"
   ]
  },
  {
   "cell_type": "code",
   "execution_count": 26,
   "id": "6ec66db6-b045-4945-9773-62044bc384b6",
   "metadata": {},
   "outputs": [
    {
     "data": {
      "text/plain": [
       "0       bag\n",
       "1      shoe\n",
       "2    glares\n",
       "3      book\n",
       "4       pen\n",
       "Name: prod_name, dtype: object"
      ]
     },
     "execution_count": 26,
     "metadata": {},
     "output_type": "execute_result"
    }
   ],
   "source": [
    "........................................................................................................................................................................................................................................................................................................................................................................................................................................................................................................"
   ]
  },
  {
   "cell_type": "code",
   "execution_count": 27,
   "id": "8447d564-968d-4aaa-a193-3a621872d894",
   "metadata": {},
   "outputs": [
    {
     "data": {
      "text/plain": [
       "'shoe'"
      ]
     },
     "execution_count": 27,
     "metadata": {},
     "output_type": "execute_result"
    }
   ],
   "source": [
    "demopd['prod_name'][1]"
   ]
  },
  {
   "cell_type": "code",
   "execution_count": 28,
   "id": "1fa4dd5b-0195-452f-8ee1-33941ddf17f7",
   "metadata": {},
   "outputs": [
    {
     "data": {
      "text/plain": [
       "'book'"
      ]
     },
     "execution_count": 28,
     "metadata": {},
     "output_type": "execute_result"
    }
   ],
   "source": [
    "demopd['prod_name'][3]"
   ]
  },
  {
   "cell_type": "code",
   "execution_count": 30,
   "id": "0019f032-0a94-4454-b926-c730301ba84a",
   "metadata": {},
   "outputs": [],
   "source": [
    "demopd.index=['one','two','three','four','five']"
   ]
  },
  {
   "cell_type": "code",
   "execution_count": 31,
   "id": "7ab107d8-274d-40b4-a79a-abab169914f3",
   "metadata": {},
   "outputs": [
    {
     "data": {
      "text/html": [
       "<div>\n",
       "<style scoped>\n",
       "    .dataframe tbody tr th:only-of-type {\n",
       "        vertical-align: middle;\n",
       "    }\n",
       "\n",
       "    .dataframe tbody tr th {\n",
       "        vertical-align: top;\n",
       "    }\n",
       "\n",
       "    .dataframe thead th {\n",
       "        text-align: right;\n",
       "    }\n",
       "</style>\n",
       "<table border=\"1\" class=\"dataframe\">\n",
       "  <thead>\n",
       "    <tr style=\"text-align: right;\">\n",
       "      <th></th>\n",
       "      <th>prod_id</th>\n",
       "      <th>prod_name</th>\n",
       "      <th>prod_loc</th>\n",
       "    </tr>\n",
       "  </thead>\n",
       "  <tbody>\n",
       "    <tr>\n",
       "      <th>one</th>\n",
       "      <td>1001</td>\n",
       "      <td>bag</td>\n",
       "      <td>andheri</td>\n",
       "    </tr>\n",
       "    <tr>\n",
       "      <th>two</th>\n",
       "      <td>3009</td>\n",
       "      <td>shoe</td>\n",
       "      <td>parle</td>\n",
       "    </tr>\n",
       "    <tr>\n",
       "      <th>three</th>\n",
       "      <td>2114</td>\n",
       "      <td>glares</td>\n",
       "      <td>dadar</td>\n",
       "    </tr>\n",
       "    <tr>\n",
       "      <th>four</th>\n",
       "      <td>3221</td>\n",
       "      <td>book</td>\n",
       "      <td>bandra</td>\n",
       "    </tr>\n",
       "    <tr>\n",
       "      <th>five</th>\n",
       "      <td>4006</td>\n",
       "      <td>pen</td>\n",
       "      <td>kurla</td>\n",
       "    </tr>\n",
       "  </tbody>\n",
       "</table>\n",
       "</div>"
      ],
      "text/plain": [
       "       prod_id prod_name prod_loc\n",
       "one       1001       bag  andheri\n",
       "two       3009      shoe    parle\n",
       "three     2114    glares    dadar\n",
       "four      3221      book   bandra\n",
       "five      4006       pen    kurla"
      ]
     },
     "execution_count": 31,
     "metadata": {},
     "output_type": "execute_result"
    }
   ],
   "source": [
    "demopd"
   ]
  },
  {
   "cell_type": "code",
   "execution_count": 32,
   "id": "50701667-9820-400e-a80f-dcb942a8e9b6",
   "metadata": {},
   "outputs": [],
   "source": [
    "#Pandas Series"
   ]
  },
  {
   "cell_type": "code",
   "execution_count": 33,
   "id": "48db648e-5f6c-41d2-adf4-41d1f8491ee7",
   "metadata": {},
   "outputs": [],
   "source": [
    "sr=pd.Series([2,4,6,8,12,14,16,18])"
   ]
  },
  {
   "cell_type": "code",
   "execution_count": 34,
   "id": "02fe4297-0de9-427d-b9af-69aab17207ed",
   "metadata": {},
   "outputs": [
    {
     "data": {
      "text/plain": [
       "0     2\n",
       "1     4\n",
       "2     6\n",
       "3     8\n",
       "4    12\n",
       "5    14\n",
       "6    16\n",
       "7    18\n",
       "dtype: int64"
      ]
     },
     "execution_count": 34,
     "metadata": {},
     "output_type": "execute_result"
    }
   ],
   "source": [
    "sr"
   ]
  },
  {
   "cell_type": "code",
   "execution_count": 35,
   "id": "209d32ce-282a-4005-b6d2-fa97a073c503",
   "metadata": {},
   "outputs": [],
   "source": [
    "#Creating random series using random.rand() method"
   ]
  },
  {
   "cell_type": "code",
   "execution_count": 36,
   "id": "0ce815a9-e080-4b3f-a24d-b161d644f38a",
   "metadata": {},
   "outputs": [],
   "source": [
    "rs=pd.Series(np.random.rand(20))"
   ]
  },
  {
   "cell_type": "code",
   "execution_count": 37,
   "id": "d06a6e35-523f-4690-ab20-77883000f23e",
   "metadata": {},
   "outputs": [
    {
     "data": {
      "text/plain": [
       "0     0.417751\n",
       "1     0.241435\n",
       "2     0.064456\n",
       "3     0.068594\n",
       "4     0.559755\n",
       "5     0.471255\n",
       "6     0.729387\n",
       "7     0.170266\n",
       "8     0.530596\n",
       "9     0.538804\n",
       "10    0.017300\n",
       "11    0.171818\n",
       "12    0.769518\n",
       "13    0.576057\n",
       "14    0.038193\n",
       "15    0.433872\n",
       "16    0.512451\n",
       "17    0.841287\n",
       "18    0.893437\n",
       "19    0.017588\n",
       "dtype: float64"
      ]
     },
     "execution_count": 37,
     "metadata": {},
     "output_type": "execute_result"
    }
   ],
   "source": [
    "rs"
   ]
  },
  {
   "cell_type": "code",
   "execution_count": 38,
   "id": "d18cff08-580d-4cf6-b46d-2822c7771461",
   "metadata": {},
   "outputs": [],
   "source": [
    "#DataFrame using random.rand"
   ]
  },
  {
   "cell_type": "code",
   "execution_count": 40,
   "id": "7e7009ed-f329-482c-820e-e764b62abbc6",
   "metadata": {},
   "outputs": [],
   "source": [
    "dtf=pd.DataFrame(np.random.rand(20,10))"
   ]
  },
  {
   "cell_type": "code",
   "execution_count": 41,
   "id": "27b3191f-00eb-42ee-8209-be3f47a7091e",
   "metadata": {},
   "outputs": [
    {
     "data": {
      "text/html": [
       "<div>\n",
       "<style scoped>\n",
       "    .dataframe tbody tr th:only-of-type {\n",
       "        vertical-align: middle;\n",
       "    }\n",
       "\n",
       "    .dataframe tbody tr th {\n",
       "        vertical-align: top;\n",
       "    }\n",
       "\n",
       "    .dataframe thead th {\n",
       "        text-align: right;\n",
       "    }\n",
       "</style>\n",
       "<table border=\"1\" class=\"dataframe\">\n",
       "  <thead>\n",
       "    <tr style=\"text-align: right;\">\n",
       "      <th></th>\n",
       "      <th>0</th>\n",
       "      <th>1</th>\n",
       "      <th>2</th>\n",
       "      <th>3</th>\n",
       "      <th>4</th>\n",
       "      <th>5</th>\n",
       "      <th>6</th>\n",
       "      <th>7</th>\n",
       "      <th>8</th>\n",
       "      <th>9</th>\n",
       "    </tr>\n",
       "  </thead>\n",
       "  <tbody>\n",
       "    <tr>\n",
       "      <th>0</th>\n",
       "      <td>0.686813</td>\n",
       "      <td>0.439122</td>\n",
       "      <td>0.665662</td>\n",
       "      <td>0.213850</td>\n",
       "      <td>0.706331</td>\n",
       "      <td>0.319823</td>\n",
       "      <td>0.465103</td>\n",
       "      <td>0.850619</td>\n",
       "      <td>0.308660</td>\n",
       "      <td>0.528657</td>\n",
       "    </tr>\n",
       "    <tr>\n",
       "      <th>1</th>\n",
       "      <td>0.726222</td>\n",
       "      <td>0.952573</td>\n",
       "      <td>0.565729</td>\n",
       "      <td>0.120704</td>\n",
       "      <td>0.436032</td>\n",
       "      <td>0.761697</td>\n",
       "      <td>0.236471</td>\n",
       "      <td>0.464042</td>\n",
       "      <td>0.031054</td>\n",
       "      <td>0.053477</td>\n",
       "    </tr>\n",
       "    <tr>\n",
       "      <th>2</th>\n",
       "      <td>0.790142</td>\n",
       "      <td>0.513902</td>\n",
       "      <td>0.705969</td>\n",
       "      <td>0.636234</td>\n",
       "      <td>0.053419</td>\n",
       "      <td>0.268141</td>\n",
       "      <td>0.759499</td>\n",
       "      <td>0.674553</td>\n",
       "      <td>0.441176</td>\n",
       "      <td>0.272632</td>\n",
       "    </tr>\n",
       "    <tr>\n",
       "      <th>3</th>\n",
       "      <td>0.517739</td>\n",
       "      <td>0.985358</td>\n",
       "      <td>0.926605</td>\n",
       "      <td>0.059122</td>\n",
       "      <td>0.556060</td>\n",
       "      <td>0.626569</td>\n",
       "      <td>0.742991</td>\n",
       "      <td>0.076277</td>\n",
       "      <td>0.391901</td>\n",
       "      <td>0.735851</td>\n",
       "    </tr>\n",
       "    <tr>\n",
       "      <th>4</th>\n",
       "      <td>0.826711</td>\n",
       "      <td>0.504780</td>\n",
       "      <td>0.833815</td>\n",
       "      <td>0.502340</td>\n",
       "      <td>0.060995</td>\n",
       "      <td>0.755538</td>\n",
       "      <td>0.756695</td>\n",
       "      <td>0.284479</td>\n",
       "      <td>0.956990</td>\n",
       "      <td>0.090080</td>\n",
       "    </tr>\n",
       "    <tr>\n",
       "      <th>5</th>\n",
       "      <td>0.970286</td>\n",
       "      <td>0.532956</td>\n",
       "      <td>0.452428</td>\n",
       "      <td>0.618059</td>\n",
       "      <td>0.015133</td>\n",
       "      <td>0.383408</td>\n",
       "      <td>0.207729</td>\n",
       "      <td>0.453950</td>\n",
       "      <td>0.694041</td>\n",
       "      <td>0.071609</td>\n",
       "    </tr>\n",
       "    <tr>\n",
       "      <th>6</th>\n",
       "      <td>0.674770</td>\n",
       "      <td>0.411650</td>\n",
       "      <td>0.756806</td>\n",
       "      <td>0.268529</td>\n",
       "      <td>0.771672</td>\n",
       "      <td>0.179492</td>\n",
       "      <td>0.766870</td>\n",
       "      <td>0.647392</td>\n",
       "      <td>0.471213</td>\n",
       "      <td>0.052882</td>\n",
       "    </tr>\n",
       "    <tr>\n",
       "      <th>7</th>\n",
       "      <td>0.672867</td>\n",
       "      <td>0.714232</td>\n",
       "      <td>0.599625</td>\n",
       "      <td>0.323517</td>\n",
       "      <td>0.995288</td>\n",
       "      <td>0.207732</td>\n",
       "      <td>0.409837</td>\n",
       "      <td>0.476023</td>\n",
       "      <td>0.280026</td>\n",
       "      <td>0.570449</td>\n",
       "    </tr>\n",
       "    <tr>\n",
       "      <th>8</th>\n",
       "      <td>0.087856</td>\n",
       "      <td>0.435328</td>\n",
       "      <td>0.219741</td>\n",
       "      <td>0.348849</td>\n",
       "      <td>0.743903</td>\n",
       "      <td>0.758053</td>\n",
       "      <td>0.226243</td>\n",
       "      <td>0.172216</td>\n",
       "      <td>0.052300</td>\n",
       "      <td>0.107153</td>\n",
       "    </tr>\n",
       "    <tr>\n",
       "      <th>9</th>\n",
       "      <td>0.212753</td>\n",
       "      <td>0.500648</td>\n",
       "      <td>0.743164</td>\n",
       "      <td>0.017665</td>\n",
       "      <td>0.737672</td>\n",
       "      <td>0.616033</td>\n",
       "      <td>0.191215</td>\n",
       "      <td>0.515660</td>\n",
       "      <td>0.320873</td>\n",
       "      <td>0.365424</td>\n",
       "    </tr>\n",
       "    <tr>\n",
       "      <th>10</th>\n",
       "      <td>0.585025</td>\n",
       "      <td>0.637656</td>\n",
       "      <td>0.538030</td>\n",
       "      <td>0.546959</td>\n",
       "      <td>0.415149</td>\n",
       "      <td>0.097196</td>\n",
       "      <td>0.942275</td>\n",
       "      <td>0.629705</td>\n",
       "      <td>0.275612</td>\n",
       "      <td>0.083503</td>\n",
       "    </tr>\n",
       "    <tr>\n",
       "      <th>11</th>\n",
       "      <td>0.241668</td>\n",
       "      <td>0.722799</td>\n",
       "      <td>0.699617</td>\n",
       "      <td>0.124434</td>\n",
       "      <td>0.403948</td>\n",
       "      <td>0.005031</td>\n",
       "      <td>0.990031</td>\n",
       "      <td>0.356155</td>\n",
       "      <td>0.976577</td>\n",
       "      <td>0.807231</td>\n",
       "    </tr>\n",
       "    <tr>\n",
       "      <th>12</th>\n",
       "      <td>0.536862</td>\n",
       "      <td>0.791145</td>\n",
       "      <td>0.821456</td>\n",
       "      <td>0.773616</td>\n",
       "      <td>0.061507</td>\n",
       "      <td>0.011068</td>\n",
       "      <td>0.207437</td>\n",
       "      <td>0.212376</td>\n",
       "      <td>0.269801</td>\n",
       "      <td>0.377053</td>\n",
       "    </tr>\n",
       "    <tr>\n",
       "      <th>13</th>\n",
       "      <td>0.770295</td>\n",
       "      <td>0.310575</td>\n",
       "      <td>0.194293</td>\n",
       "      <td>0.295810</td>\n",
       "      <td>0.782415</td>\n",
       "      <td>0.632242</td>\n",
       "      <td>0.832475</td>\n",
       "      <td>0.065677</td>\n",
       "      <td>0.989438</td>\n",
       "      <td>0.501605</td>\n",
       "    </tr>\n",
       "    <tr>\n",
       "      <th>14</th>\n",
       "      <td>0.613574</td>\n",
       "      <td>0.056793</td>\n",
       "      <td>0.423725</td>\n",
       "      <td>0.716375</td>\n",
       "      <td>0.257057</td>\n",
       "      <td>0.896339</td>\n",
       "      <td>0.710872</td>\n",
       "      <td>0.687577</td>\n",
       "      <td>0.033471</td>\n",
       "      <td>0.591745</td>\n",
       "    </tr>\n",
       "    <tr>\n",
       "      <th>15</th>\n",
       "      <td>0.612103</td>\n",
       "      <td>0.165667</td>\n",
       "      <td>0.999726</td>\n",
       "      <td>0.899284</td>\n",
       "      <td>0.740234</td>\n",
       "      <td>0.790166</td>\n",
       "      <td>0.916449</td>\n",
       "      <td>0.632433</td>\n",
       "      <td>0.976050</td>\n",
       "      <td>0.556985</td>\n",
       "    </tr>\n",
       "    <tr>\n",
       "      <th>16</th>\n",
       "      <td>0.463213</td>\n",
       "      <td>0.277046</td>\n",
       "      <td>0.273130</td>\n",
       "      <td>0.697561</td>\n",
       "      <td>0.486295</td>\n",
       "      <td>0.019285</td>\n",
       "      <td>0.160624</td>\n",
       "      <td>0.640463</td>\n",
       "      <td>0.780912</td>\n",
       "      <td>0.664592</td>\n",
       "    </tr>\n",
       "    <tr>\n",
       "      <th>17</th>\n",
       "      <td>0.790324</td>\n",
       "      <td>0.397335</td>\n",
       "      <td>0.327675</td>\n",
       "      <td>0.551065</td>\n",
       "      <td>0.926505</td>\n",
       "      <td>0.174381</td>\n",
       "      <td>0.632424</td>\n",
       "      <td>0.682190</td>\n",
       "      <td>0.283988</td>\n",
       "      <td>0.020053</td>\n",
       "    </tr>\n",
       "    <tr>\n",
       "      <th>18</th>\n",
       "      <td>0.338460</td>\n",
       "      <td>0.156838</td>\n",
       "      <td>0.797062</td>\n",
       "      <td>0.705142</td>\n",
       "      <td>0.815653</td>\n",
       "      <td>0.200677</td>\n",
       "      <td>0.245603</td>\n",
       "      <td>0.573811</td>\n",
       "      <td>0.316098</td>\n",
       "      <td>0.652699</td>\n",
       "    </tr>\n",
       "    <tr>\n",
       "      <th>19</th>\n",
       "      <td>0.279840</td>\n",
       "      <td>0.893138</td>\n",
       "      <td>0.802272</td>\n",
       "      <td>0.617750</td>\n",
       "      <td>0.956073</td>\n",
       "      <td>0.233839</td>\n",
       "      <td>0.204434</td>\n",
       "      <td>0.435145</td>\n",
       "      <td>0.189898</td>\n",
       "      <td>0.454141</td>\n",
       "    </tr>\n",
       "  </tbody>\n",
       "</table>\n",
       "</div>"
      ],
      "text/plain": [
       "           0         1         2         3         4         5         6  \\\n",
       "0   0.686813  0.439122  0.665662  0.213850  0.706331  0.319823  0.465103   \n",
       "1   0.726222  0.952573  0.565729  0.120704  0.436032  0.761697  0.236471   \n",
       "2   0.790142  0.513902  0.705969  0.636234  0.053419  0.268141  0.759499   \n",
       "3   0.517739  0.985358  0.926605  0.059122  0.556060  0.626569  0.742991   \n",
       "4   0.826711  0.504780  0.833815  0.502340  0.060995  0.755538  0.756695   \n",
       "5   0.970286  0.532956  0.452428  0.618059  0.015133  0.383408  0.207729   \n",
       "6   0.674770  0.411650  0.756806  0.268529  0.771672  0.179492  0.766870   \n",
       "7   0.672867  0.714232  0.599625  0.323517  0.995288  0.207732  0.409837   \n",
       "8   0.087856  0.435328  0.219741  0.348849  0.743903  0.758053  0.226243   \n",
       "9   0.212753  0.500648  0.743164  0.017665  0.737672  0.616033  0.191215   \n",
       "10  0.585025  0.637656  0.538030  0.546959  0.415149  0.097196  0.942275   \n",
       "11  0.241668  0.722799  0.699617  0.124434  0.403948  0.005031  0.990031   \n",
       "12  0.536862  0.791145  0.821456  0.773616  0.061507  0.011068  0.207437   \n",
       "13  0.770295  0.310575  0.194293  0.295810  0.782415  0.632242  0.832475   \n",
       "14  0.613574  0.056793  0.423725  0.716375  0.257057  0.896339  0.710872   \n",
       "15  0.612103  0.165667  0.999726  0.899284  0.740234  0.790166  0.916449   \n",
       "16  0.463213  0.277046  0.273130  0.697561  0.486295  0.019285  0.160624   \n",
       "17  0.790324  0.397335  0.327675  0.551065  0.926505  0.174381  0.632424   \n",
       "18  0.338460  0.156838  0.797062  0.705142  0.815653  0.200677  0.245603   \n",
       "19  0.279840  0.893138  0.802272  0.617750  0.956073  0.233839  0.204434   \n",
       "\n",
       "           7         8         9  \n",
       "0   0.850619  0.308660  0.528657  \n",
       "1   0.464042  0.031054  0.053477  \n",
       "2   0.674553  0.441176  0.272632  \n",
       "3   0.076277  0.391901  0.735851  \n",
       "4   0.284479  0.956990  0.090080  \n",
       "5   0.453950  0.694041  0.071609  \n",
       "6   0.647392  0.471213  0.052882  \n",
       "7   0.476023  0.280026  0.570449  \n",
       "8   0.172216  0.052300  0.107153  \n",
       "9   0.515660  0.320873  0.365424  \n",
       "10  0.629705  0.275612  0.083503  \n",
       "11  0.356155  0.976577  0.807231  \n",
       "12  0.212376  0.269801  0.377053  \n",
       "13  0.065677  0.989438  0.501605  \n",
       "14  0.687577  0.033471  0.591745  \n",
       "15  0.632433  0.976050  0.556985  \n",
       "16  0.640463  0.780912  0.664592  \n",
       "17  0.682190  0.283988  0.020053  \n",
       "18  0.573811  0.316098  0.652699  \n",
       "19  0.435145  0.189898  0.454141  "
      ]
     },
     "execution_count": 41,
     "metadata": {},
     "output_type": "execute_result"
    }
   ],
   "source": [
    "dtf"
   ]
  },
  {
   "cell_type": "code",
   "execution_count": 43,
   "id": "cf5a6ae4-9c6b-4a8a-b172-6b4e08d4c8d7",
   "metadata": {},
   "outputs": [
    {
     "data": {
      "text/plain": [
       "pandas.core.frame.DataFrame"
      ]
     },
     "execution_count": 43,
     "metadata": {},
     "output_type": "execute_result"
    }
   ],
   "source": [
    "type(dtf)"
   ]
  },
  {
   "cell_type": "code",
   "execution_count": 44,
   "id": "fee495dc-4ec6-4b8a-a9f4-38fee0e8dade",
   "metadata": {},
   "outputs": [
    {
     "data": {
      "text/html": [
       "<div>\n",
       "<style scoped>\n",
       "    .dataframe tbody tr th:only-of-type {\n",
       "        vertical-align: middle;\n",
       "    }\n",
       "\n",
       "    .dataframe tbody tr th {\n",
       "        vertical-align: top;\n",
       "    }\n",
       "\n",
       "    .dataframe thead th {\n",
       "        text-align: right;\n",
       "    }\n",
       "</style>\n",
       "<table border=\"1\" class=\"dataframe\">\n",
       "  <thead>\n",
       "    <tr style=\"text-align: right;\">\n",
       "      <th></th>\n",
       "      <th>0</th>\n",
       "      <th>1</th>\n",
       "      <th>2</th>\n",
       "      <th>3</th>\n",
       "      <th>4</th>\n",
       "      <th>5</th>\n",
       "      <th>6</th>\n",
       "      <th>7</th>\n",
       "      <th>8</th>\n",
       "      <th>9</th>\n",
       "    </tr>\n",
       "  </thead>\n",
       "  <tbody>\n",
       "    <tr>\n",
       "      <th>count</th>\n",
       "      <td>20.000000</td>\n",
       "      <td>20.000000</td>\n",
       "      <td>20.000000</td>\n",
       "      <td>20.000000</td>\n",
       "      <td>20.000000</td>\n",
       "      <td>20.000000</td>\n",
       "      <td>20.000000</td>\n",
       "      <td>20.000000</td>\n",
       "      <td>20.000000</td>\n",
       "      <td>20.000000</td>\n",
       "    </tr>\n",
       "    <tr>\n",
       "      <th>mean</th>\n",
       "      <td>0.569876</td>\n",
       "      <td>0.519977</td>\n",
       "      <td>0.617326</td>\n",
       "      <td>0.451843</td>\n",
       "      <td>0.546067</td>\n",
       "      <td>0.396835</td>\n",
       "      <td>0.530264</td>\n",
       "      <td>0.476537</td>\n",
       "      <td>0.452004</td>\n",
       "      <td>0.377891</td>\n",
       "    </tr>\n",
       "    <tr>\n",
       "      <th>std</th>\n",
       "      <td>0.234822</td>\n",
       "      <td>0.264109</td>\n",
       "      <td>0.236479</td>\n",
       "      <td>0.262589</td>\n",
       "      <td>0.321562</td>\n",
       "      <td>0.299788</td>\n",
       "      <td>0.300372</td>\n",
       "      <td>0.220760</td>\n",
       "      <td>0.326357</td>\n",
       "      <td>0.263148</td>\n",
       "    </tr>\n",
       "    <tr>\n",
       "      <th>min</th>\n",
       "      <td>0.087856</td>\n",
       "      <td>0.056793</td>\n",
       "      <td>0.194293</td>\n",
       "      <td>0.017665</td>\n",
       "      <td>0.015133</td>\n",
       "      <td>0.005031</td>\n",
       "      <td>0.160624</td>\n",
       "      <td>0.065677</td>\n",
       "      <td>0.031054</td>\n",
       "      <td>0.020053</td>\n",
       "    </tr>\n",
       "    <tr>\n",
       "      <th>25%</th>\n",
       "      <td>0.432025</td>\n",
       "      <td>0.375645</td>\n",
       "      <td>0.445252</td>\n",
       "      <td>0.254859</td>\n",
       "      <td>0.367225</td>\n",
       "      <td>0.178214</td>\n",
       "      <td>0.221615</td>\n",
       "      <td>0.338236</td>\n",
       "      <td>0.274159</td>\n",
       "      <td>0.088436</td>\n",
       "    </tr>\n",
       "    <tr>\n",
       "      <th>50%</th>\n",
       "      <td>0.612838</td>\n",
       "      <td>0.502714</td>\n",
       "      <td>0.682639</td>\n",
       "      <td>0.524649</td>\n",
       "      <td>0.631196</td>\n",
       "      <td>0.293982</td>\n",
       "      <td>0.548763</td>\n",
       "      <td>0.495841</td>\n",
       "      <td>0.318486</td>\n",
       "      <td>0.415597</td>\n",
       "    </tr>\n",
       "    <tr>\n",
       "      <th>75%</th>\n",
       "      <td>0.737240</td>\n",
       "      <td>0.716374</td>\n",
       "      <td>0.798364</td>\n",
       "      <td>0.651566</td>\n",
       "      <td>0.774358</td>\n",
       "      <td>0.663066</td>\n",
       "      <td>0.761342</td>\n",
       "      <td>0.642195</td>\n",
       "      <td>0.715759</td>\n",
       "      <td>0.575773</td>\n",
       "    </tr>\n",
       "    <tr>\n",
       "      <th>max</th>\n",
       "      <td>0.970286</td>\n",
       "      <td>0.985358</td>\n",
       "      <td>0.999726</td>\n",
       "      <td>0.899284</td>\n",
       "      <td>0.995288</td>\n",
       "      <td>0.896339</td>\n",
       "      <td>0.990031</td>\n",
       "      <td>0.850619</td>\n",
       "      <td>0.989438</td>\n",
       "      <td>0.807231</td>\n",
       "    </tr>\n",
       "  </tbody>\n",
       "</table>\n",
       "</div>"
      ],
      "text/plain": [
       "               0          1          2          3          4          5  \\\n",
       "count  20.000000  20.000000  20.000000  20.000000  20.000000  20.000000   \n",
       "mean    0.569876   0.519977   0.617326   0.451843   0.546067   0.396835   \n",
       "std     0.234822   0.264109   0.236479   0.262589   0.321562   0.299788   \n",
       "min     0.087856   0.056793   0.194293   0.017665   0.015133   0.005031   \n",
       "25%     0.432025   0.375645   0.445252   0.254859   0.367225   0.178214   \n",
       "50%     0.612838   0.502714   0.682639   0.524649   0.631196   0.293982   \n",
       "75%     0.737240   0.716374   0.798364   0.651566   0.774358   0.663066   \n",
       "max     0.970286   0.985358   0.999726   0.899284   0.995288   0.896339   \n",
       "\n",
       "               6          7          8          9  \n",
       "count  20.000000  20.000000  20.000000  20.000000  \n",
       "mean    0.530264   0.476537   0.452004   0.377891  \n",
       "std     0.300372   0.220760   0.326357   0.263148  \n",
       "min     0.160624   0.065677   0.031054   0.020053  \n",
       "25%     0.221615   0.338236   0.274159   0.088436  \n",
       "50%     0.548763   0.495841   0.318486   0.415597  \n",
       "75%     0.761342   0.642195   0.715759   0.575773  \n",
       "max     0.990031   0.850619   0.989438   0.807231  "
      ]
     },
     "execution_count": 44,
     "metadata": {},
     "output_type": "execute_result"
    }
   ],
   "source": [
    "dtf.describe()"
   ]
  },
  {
   "cell_type": "code",
   "execution_count": 47,
   "id": "3b296e03-218b-4a12-a91c-991e970f459b",
   "metadata": {},
   "outputs": [
    {
     "data": {
      "text/plain": [
       "0.7262215322753695"
      ]
     },
     "execution_count": 47,
     "metadata": {},
     "output_type": "execute_result"
    }
   ],
   "source": [
    "dtf[0][1]"
   ]
  },
  {
   "cell_type": "code",
   "execution_count": 48,
   "id": "b0df59f5-789c-4e71-b181-d7444578a7ed",
   "metadata": {},
   "outputs": [],
   "source": [
    "#Changing value"
   ]
  },
  {
   "cell_type": "code",
   "execution_count": 49,
   "id": "3693baea-b35f-41bc-b398-a5da786ae2a3",
   "metadata": {},
   "outputs": [],
   "source": [
    "dtf[0][1]=\"xyz\""
   ]
  },
  {
   "cell_type": "code",
   "execution_count": 50,
   "id": "f6b7b93f-ffcb-470d-90a3-12a0a8619bba",
   "metadata": {},
   "outputs": [
    {
     "data": {
      "text/html": [
       "<div>\n",
       "<style scoped>\n",
       "    .dataframe tbody tr th:only-of-type {\n",
       "        vertical-align: middle;\n",
       "    }\n",
       "\n",
       "    .dataframe tbody tr th {\n",
       "        vertical-align: top;\n",
       "    }\n",
       "\n",
       "    .dataframe thead th {\n",
       "        text-align: right;\n",
       "    }\n",
       "</style>\n",
       "<table border=\"1\" class=\"dataframe\">\n",
       "  <thead>\n",
       "    <tr style=\"text-align: right;\">\n",
       "      <th></th>\n",
       "      <th>0</th>\n",
       "      <th>1</th>\n",
       "      <th>2</th>\n",
       "      <th>3</th>\n",
       "      <th>4</th>\n",
       "      <th>5</th>\n",
       "      <th>6</th>\n",
       "      <th>7</th>\n",
       "      <th>8</th>\n",
       "      <th>9</th>\n",
       "    </tr>\n",
       "  </thead>\n",
       "  <tbody>\n",
       "    <tr>\n",
       "      <th>0</th>\n",
       "      <td>0.686813</td>\n",
       "      <td>0.439122</td>\n",
       "      <td>0.665662</td>\n",
       "      <td>0.213850</td>\n",
       "      <td>0.706331</td>\n",
       "      <td>0.319823</td>\n",
       "      <td>0.465103</td>\n",
       "      <td>0.850619</td>\n",
       "      <td>0.308660</td>\n",
       "      <td>0.528657</td>\n",
       "    </tr>\n",
       "    <tr>\n",
       "      <th>1</th>\n",
       "      <td>xyz</td>\n",
       "      <td>0.952573</td>\n",
       "      <td>0.565729</td>\n",
       "      <td>0.120704</td>\n",
       "      <td>0.436032</td>\n",
       "      <td>0.761697</td>\n",
       "      <td>0.236471</td>\n",
       "      <td>0.464042</td>\n",
       "      <td>0.031054</td>\n",
       "      <td>0.053477</td>\n",
       "    </tr>\n",
       "    <tr>\n",
       "      <th>2</th>\n",
       "      <td>0.790142</td>\n",
       "      <td>0.513902</td>\n",
       "      <td>0.705969</td>\n",
       "      <td>0.636234</td>\n",
       "      <td>0.053419</td>\n",
       "      <td>0.268141</td>\n",
       "      <td>0.759499</td>\n",
       "      <td>0.674553</td>\n",
       "      <td>0.441176</td>\n",
       "      <td>0.272632</td>\n",
       "    </tr>\n",
       "    <tr>\n",
       "      <th>3</th>\n",
       "      <td>0.517739</td>\n",
       "      <td>0.985358</td>\n",
       "      <td>0.926605</td>\n",
       "      <td>0.059122</td>\n",
       "      <td>0.556060</td>\n",
       "      <td>0.626569</td>\n",
       "      <td>0.742991</td>\n",
       "      <td>0.076277</td>\n",
       "      <td>0.391901</td>\n",
       "      <td>0.735851</td>\n",
       "    </tr>\n",
       "  </tbody>\n",
       "</table>\n",
       "</div>"
      ],
      "text/plain": [
       "          0         1         2         3         4         5         6  \\\n",
       "0  0.686813  0.439122  0.665662  0.213850  0.706331  0.319823  0.465103   \n",
       "1       xyz  0.952573  0.565729  0.120704  0.436032  0.761697  0.236471   \n",
       "2  0.790142  0.513902  0.705969  0.636234  0.053419  0.268141  0.759499   \n",
       "3  0.517739  0.985358  0.926605  0.059122  0.556060  0.626569  0.742991   \n",
       "\n",
       "          7         8         9  \n",
       "0  0.850619  0.308660  0.528657  \n",
       "1  0.464042  0.031054  0.053477  \n",
       "2  0.674553  0.441176  0.272632  \n",
       "3  0.076277  0.391901  0.735851  "
      ]
     },
     "execution_count": 50,
     "metadata": {},
     "output_type": "execute_result"
    }
   ],
   "source": [
    "dtf.head(4)"
   ]
  },
  {
   "cell_type": "code",
   "execution_count": 51,
   "id": "1384df84-4a61-47d9-bfcb-0e3833e685af",
   "metadata": {},
   "outputs": [
    {
     "name": "stderr",
     "output_type": "stream",
     "text": [
      "C:\\Users\\aquis\\AppData\\Local\\Temp\\ipykernel_8376\\2773297247.py:1: SettingWithCopyWarning: \n",
      "A value is trying to be set on a copy of a slice from a DataFrame\n",
      "\n",
      "See the caveats in the documentation: https://pandas.pydata.org/pandas-docs/stable/user_guide/indexing.html#returning-a-view-versus-a-copy\n",
      "  dtf[2][1]=\"yyy\"\n"
     ]
    }
   ],
   "source": [
    "dtf[2][1]=\"yyy\""
   ]
  },
  {
   "cell_type": "code",
   "execution_count": 52,
   "id": "9e2debd2-d58f-4abe-a05c-86dc8cf2e55c",
   "metadata": {},
   "outputs": [
    {
     "data": {
      "text/html": [
       "<div>\n",
       "<style scoped>\n",
       "    .dataframe tbody tr th:only-of-type {\n",
       "        vertical-align: middle;\n",
       "    }\n",
       "\n",
       "    .dataframe tbody tr th {\n",
       "        vertical-align: top;\n",
       "    }\n",
       "\n",
       "    .dataframe thead th {\n",
       "        text-align: right;\n",
       "    }\n",
       "</style>\n",
       "<table border=\"1\" class=\"dataframe\">\n",
       "  <thead>\n",
       "    <tr style=\"text-align: right;\">\n",
       "      <th></th>\n",
       "      <th>0</th>\n",
       "      <th>1</th>\n",
       "      <th>2</th>\n",
       "      <th>3</th>\n",
       "      <th>4</th>\n",
       "      <th>5</th>\n",
       "      <th>6</th>\n",
       "      <th>7</th>\n",
       "      <th>8</th>\n",
       "      <th>9</th>\n",
       "    </tr>\n",
       "  </thead>\n",
       "  <tbody>\n",
       "    <tr>\n",
       "      <th>0</th>\n",
       "      <td>0.686813</td>\n",
       "      <td>0.439122</td>\n",
       "      <td>0.665662</td>\n",
       "      <td>0.213850</td>\n",
       "      <td>0.706331</td>\n",
       "      <td>0.319823</td>\n",
       "      <td>0.465103</td>\n",
       "      <td>0.850619</td>\n",
       "      <td>0.308660</td>\n",
       "      <td>0.528657</td>\n",
       "    </tr>\n",
       "    <tr>\n",
       "      <th>1</th>\n",
       "      <td>xyz</td>\n",
       "      <td>0.952573</td>\n",
       "      <td>yyy</td>\n",
       "      <td>0.120704</td>\n",
       "      <td>0.436032</td>\n",
       "      <td>0.761697</td>\n",
       "      <td>0.236471</td>\n",
       "      <td>0.464042</td>\n",
       "      <td>0.031054</td>\n",
       "      <td>0.053477</td>\n",
       "    </tr>\n",
       "    <tr>\n",
       "      <th>2</th>\n",
       "      <td>0.790142</td>\n",
       "      <td>0.513902</td>\n",
       "      <td>0.705969</td>\n",
       "      <td>0.636234</td>\n",
       "      <td>0.053419</td>\n",
       "      <td>0.268141</td>\n",
       "      <td>0.759499</td>\n",
       "      <td>0.674553</td>\n",
       "      <td>0.441176</td>\n",
       "      <td>0.272632</td>\n",
       "    </tr>\n",
       "    <tr>\n",
       "      <th>3</th>\n",
       "      <td>0.517739</td>\n",
       "      <td>0.985358</td>\n",
       "      <td>0.926605</td>\n",
       "      <td>0.059122</td>\n",
       "      <td>0.556060</td>\n",
       "      <td>0.626569</td>\n",
       "      <td>0.742991</td>\n",
       "      <td>0.076277</td>\n",
       "      <td>0.391901</td>\n",
       "      <td>0.735851</td>\n",
       "    </tr>\n",
       "  </tbody>\n",
       "</table>\n",
       "</div>"
      ],
      "text/plain": [
       "          0         1         2         3         4         5         6  \\\n",
       "0  0.686813  0.439122  0.665662  0.213850  0.706331  0.319823  0.465103   \n",
       "1       xyz  0.952573       yyy  0.120704  0.436032  0.761697  0.236471   \n",
       "2  0.790142  0.513902  0.705969  0.636234  0.053419  0.268141  0.759499   \n",
       "3  0.517739  0.985358  0.926605  0.059122  0.556060  0.626569  0.742991   \n",
       "\n",
       "          7         8         9  \n",
       "0  0.850619  0.308660  0.528657  \n",
       "1  0.464042  0.031054  0.053477  \n",
       "2  0.674553  0.441176  0.272632  \n",
       "3  0.076277  0.391901  0.735851  "
      ]
     },
     "execution_count": 52,
     "metadata": {},
     "output_type": "execute_result"
    }
   ],
   "source": [
    "dtf.head(4)"
   ]
  },
  {
   "cell_type": "code",
   "execution_count": 53,
   "id": "e16aead2-2f17-4ded-91a8-a20742beab04",
   "metadata": {},
   "outputs": [
    {
     "data": {
      "text/html": [
       "<div>\n",
       "<style scoped>\n",
       "    .dataframe tbody tr th:only-of-type {\n",
       "        vertical-align: middle;\n",
       "    }\n",
       "\n",
       "    .dataframe tbody tr th {\n",
       "        vertical-align: top;\n",
       "    }\n",
       "\n",
       "    .dataframe thead th {\n",
       "        text-align: right;\n",
       "    }\n",
       "</style>\n",
       "<table border=\"1\" class=\"dataframe\">\n",
       "  <thead>\n",
       "    <tr style=\"text-align: right;\">\n",
       "      <th></th>\n",
       "      <th>prod_id</th>\n",
       "      <th>prod_name</th>\n",
       "      <th>prod_loc</th>\n",
       "    </tr>\n",
       "  </thead>\n",
       "  <tbody>\n",
       "    <tr>\n",
       "      <th>one</th>\n",
       "      <td>1001</td>\n",
       "      <td>bag</td>\n",
       "      <td>andheri</td>\n",
       "    </tr>\n",
       "    <tr>\n",
       "      <th>two</th>\n",
       "      <td>3009</td>\n",
       "      <td>shoe</td>\n",
       "      <td>parle</td>\n",
       "    </tr>\n",
       "    <tr>\n",
       "      <th>three</th>\n",
       "      <td>2114</td>\n",
       "      <td>glares</td>\n",
       "      <td>dadar</td>\n",
       "    </tr>\n",
       "    <tr>\n",
       "      <th>four</th>\n",
       "      <td>3221</td>\n",
       "      <td>book</td>\n",
       "      <td>bandra</td>\n",
       "    </tr>\n",
       "    <tr>\n",
       "      <th>five</th>\n",
       "      <td>4006</td>\n",
       "      <td>pen</td>\n",
       "      <td>kurla</td>\n",
       "    </tr>\n",
       "  </tbody>\n",
       "</table>\n",
       "</div>"
      ],
      "text/plain": [
       "       prod_id prod_name prod_loc\n",
       "one       1001       bag  andheri\n",
       "two       3009      shoe    parle\n",
       "three     2114    glares    dadar\n",
       "four      3221      book   bandra\n",
       "five      4006       pen    kurla"
      ]
     },
     "execution_count": 53,
     "metadata": {},
     "output_type": "execute_result"
    }
   ],
   "source": [
    "demopd"
   ]
  },
  {
   "cell_type": "code",
   "execution_count": 54,
   "id": "7a59abd7-e344-4e33-85f4-7b65d416ff33",
   "metadata": {},
   "outputs": [
    {
     "name": "stderr",
     "output_type": "stream",
     "text": [
      "C:\\Users\\aquis\\AppData\\Local\\Temp\\ipykernel_8376\\57212175.py:1: SettingWithCopyWarning: \n",
      "A value is trying to be set on a copy of a slice from a DataFrame\n",
      "\n",
      "See the caveats in the documentation: https://pandas.pydata.org/pandas-docs/stable/user_guide/indexing.html#returning-a-view-versus-a-copy\n",
      "  demopd['prod_id'][2]=2889\n"
     ]
    }
   ],
   "source": [
    "demopd['prod_id'][2]=2889"
   ]
  },
  {
   "cell_type": "code",
   "execution_count": 55,
   "id": "999d8fe4-a14a-4242-8c98-31c539a6d650",
   "metadata": {},
   "outputs": [
    {
     "data": {
      "text/html": [
       "<div>\n",
       "<style scoped>\n",
       "    .dataframe tbody tr th:only-of-type {\n",
       "        vertical-align: middle;\n",
       "    }\n",
       "\n",
       "    .dataframe tbody tr th {\n",
       "        vertical-align: top;\n",
       "    }\n",
       "\n",
       "    .dataframe thead th {\n",
       "        text-align: right;\n",
       "    }\n",
       "</style>\n",
       "<table border=\"1\" class=\"dataframe\">\n",
       "  <thead>\n",
       "    <tr style=\"text-align: right;\">\n",
       "      <th></th>\n",
       "      <th>prod_id</th>\n",
       "      <th>prod_name</th>\n",
       "      <th>prod_loc</th>\n",
       "    </tr>\n",
       "  </thead>\n",
       "  <tbody>\n",
       "    <tr>\n",
       "      <th>one</th>\n",
       "      <td>1001</td>\n",
       "      <td>bag</td>\n",
       "      <td>andheri</td>\n",
       "    </tr>\n",
       "    <tr>\n",
       "      <th>two</th>\n",
       "      <td>3009</td>\n",
       "      <td>shoe</td>\n",
       "      <td>parle</td>\n",
       "    </tr>\n",
       "    <tr>\n",
       "      <th>three</th>\n",
       "      <td>2889</td>\n",
       "      <td>glares</td>\n",
       "      <td>dadar</td>\n",
       "    </tr>\n",
       "    <tr>\n",
       "      <th>four</th>\n",
       "      <td>3221</td>\n",
       "      <td>book</td>\n",
       "      <td>bandra</td>\n",
       "    </tr>\n",
       "    <tr>\n",
       "      <th>five</th>\n",
       "      <td>4006</td>\n",
       "      <td>pen</td>\n",
       "      <td>kurla</td>\n",
       "    </tr>\n",
       "  </tbody>\n",
       "</table>\n",
       "</div>"
      ],
      "text/plain": [
       "       prod_id prod_name prod_loc\n",
       "one       1001       bag  andheri\n",
       "two       3009      shoe    parle\n",
       "three     2889    glares    dadar\n",
       "four      3221      book   bandra\n",
       "five      4006       pen    kurla"
      ]
     },
     "execution_count": 55,
     "metadata": {},
     "output_type": "execute_result"
    }
   ],
   "source": [
    "demopd"
   ]
  },
  {
   "cell_type": "code",
   "execution_count": 56,
   "id": "260e13af-d8a7-411f-8993-98231cf96734",
   "metadata": {},
   "outputs": [],
   "source": [
    "#DataFrame to numpy"
   ]
  },
  {
   "cell_type": "code",
   "execution_count": 58,
   "id": "675a6a61-1beb-4f21-bba2-6d8b9c59a859",
   "metadata": {},
   "outputs": [
    {
     "data": {
      "text/plain": [
       "array([[0.6868133775854757, 0.4391224091204067, 0.6656620488824291,\n",
       "        0.21385015319366873, 0.7063307311342277, 0.31982266152369354,\n",
       "        0.465102549138542, 0.8506186285897991, 0.30865969728119136,\n",
       "        0.5286569463314529],\n",
       "       ['xyz', 0.9525725728587995, 'yyy', 0.12070394839922827,\n",
       "        0.43603221615408905, 0.7616965008910888, 0.23647117867022494,\n",
       "        0.46404164731793984, 0.031054115780164704, 0.05347705556423532],\n",
       "       [0.7901420967334665, 0.5139022404759367, 0.7059691036262695,\n",
       "        0.636234403710576, 0.05341937571142741, 0.26814141614433584,\n",
       "        0.759499385571801, 0.6745528157791773, 0.44117581950939233,\n",
       "        0.2726323224595276],\n",
       "       [0.5177394807235272, 0.9853575767272825, 0.92660520757896,\n",
       "        0.059122459512430225, 0.5560603461541387, 0.6265689559751232,\n",
       "        0.7429912352091893, 0.0762766821492672, 0.3919005203040955,\n",
       "        0.7358511468294736],\n",
       "       [0.8267111050622251, 0.5047803116889773, 0.8338145210942647,\n",
       "        0.5023397921138756, 0.06099479557780685, 0.7555379710396014,\n",
       "        0.7566949391895361, 0.2844789995503588, 0.9569899840307191,\n",
       "        0.09008005618875203],\n",
       "       [0.9702864341597076, 0.5329560752821708, 0.4524277692430423,\n",
       "        0.6180594253340599, 0.01513327897590433, 0.3834083318686212,\n",
       "        0.20772899325641847, 0.45395002798839146, 0.6940410343796315,\n",
       "        0.07160892944930441],\n",
       "       [0.6747700479038216, 0.411649625506023, 0.756806359101671,\n",
       "        0.26852897128453623, 0.7716722206784965, 0.1794917502641019,\n",
       "        0.7668702572439335, 0.6473919763374053, 0.4712133731994762,\n",
       "        0.05288179149673966],\n",
       "       [0.6728668273112942, 0.7142318791216048, 0.5996248915376216,\n",
       "        0.32351676077732927, 0.9952877673966695, 0.20773202155915382,\n",
       "        0.409837333407578, 0.47602298768977536, 0.2800257369813758,\n",
       "        0.5704488529225459],\n",
       "       [0.08785620163020968, 0.43532848897127085, 0.21974063639798402,\n",
       "        0.34884906805191684, 0.7439026938060049, 0.7580534716974819,\n",
       "        0.22624320786937457, 0.17221618844772535, 0.052300111427573626,\n",
       "        0.10715332282744239],\n",
       "       [0.21275337239784287, 0.5006480847654396, 0.7431637526289403,\n",
       "        0.017665097675424568, 0.7376715648426841, 0.616032719285393,\n",
       "        0.19121519442749468, 0.5156597688257895, 0.32087282316021004,\n",
       "        0.3654242182106048],\n",
       "       [0.5850245199915804, 0.6376559605961835, 0.5380298083497549,\n",
       "        0.5469590645517509, 0.4151486292073041, 0.09719617156315141,\n",
       "        0.9422746036370866, 0.6297045227667482, 0.2756116930263276,\n",
       "        0.08350314250400426],\n",
       "       [0.2416682250627764, 0.7227986919506156, 0.6996165510426945,\n",
       "        0.12443401535652654, 0.40394805646693743, 0.005030646596301036,\n",
       "        0.9900306318866039, 0.35615507650881306, 0.9765766832119365,\n",
       "        0.8072310483815378],\n",
       "       [0.5368617685176276, 0.791144850287765, 0.821455554224405,\n",
       "        0.773616238927296, 0.0615065542953378, 0.011067999253318805,\n",
       "        0.20743678109999786, 0.21237574161370432, 0.269801049893856,\n",
       "        0.37705301995799645],\n",
       "       [0.7702950217551203, 0.3105748976349455, 0.19429316513430128,\n",
       "        0.2958098516612575, 0.7824150087871805, 0.6322416982296868,\n",
       "        0.832475498488519, 0.0656769174681322, 0.9894380687315439,\n",
       "        0.5016050695563263],\n",
       "       [0.6135739058889949, 0.05679254175927406, 0.42372459908620164,\n",
       "        0.7163749812015092, 0.2570570127000812, 0.8963394849134472,\n",
       "        0.7108716167806512, 0.6875772232258505, 0.033471303836279276,\n",
       "        0.5917450506274484],\n",
       "       [0.612102689089753, 0.16566704019259393, 0.9997260086961193,\n",
       "        0.899283776103721, 0.740234298357541, 0.7901659462139685,\n",
       "        0.9164494328548554, 0.6324333968901072, 0.9760502200074033,\n",
       "        0.5569853361589476],\n",
       "       [0.46321291774377427, 0.2770455385649584, 0.2731300609020185,\n",
       "        0.6975612634416765, 0.486295155586529, 0.01928504342074322,\n",
       "        0.16062389793480292, 0.6404630157019763, 0.7809118684717296,\n",
       "        0.6645916477506215],\n",
       "       [0.7903236233195688, 0.39733522491677975, 0.32767536883390136,\n",
       "        0.5510649345751798, 0.9265049204874549, 0.1743811603064811,\n",
       "        0.6324235658396336, 0.6821904009915981, 0.28398825432173236,\n",
       "        0.020053286214873567],\n",
       "       [0.33845971936960395, 0.15683795840545034, 0.7970621457460961,\n",
       "        0.70514161640125, 0.8156526662190438, 0.20067690262163895,\n",
       "        0.2456032278988337, 0.5738112738198815, 0.31609820598069027,\n",
       "        0.6526992268619951],\n",
       "       [0.2798403543079664, 0.8931380918314451, 0.8022715532525352,\n",
       "        0.6177504785681281, 0.9560732644867532, 0.23383875575090052,\n",
       "        0.20443406102463546, 0.43514451256528397, 0.18989828875768666,\n",
       "        0.4541406864102788]], dtype=object)"
      ]
     },
     "execution_count": 58,
     "metadata": {},
     "output_type": "execute_result"
    }
   ],
   "source": [
    "dtf.to_numpy()"
   ]
  },
  {
   "cell_type": "code",
   "execution_count": 59,
   "id": "2b90e290-bb17-4b05-b4bd-512c024c4d43",
   "metadata": {},
   "outputs": [],
   "source": [
    "#Practice"
   ]
  },
  {
   "cell_type": "code",
   "execution_count": 60,
   "id": "addaa965-a560-4e1e-8e33-67ba95d9cb9e",
   "metadata": {},
   "outputs": [
    {
     "data": {
      "text/html": [
       "<div>\n",
       "<style scoped>\n",
       "    .dataframe tbody tr th:only-of-type {\n",
       "        vertical-align: middle;\n",
       "    }\n",
       "\n",
       "    .dataframe tbody tr th {\n",
       "        vertical-align: top;\n",
       "    }\n",
       "\n",
       "    .dataframe thead th {\n",
       "        text-align: right;\n",
       "    }\n",
       "</style>\n",
       "<table border=\"1\" class=\"dataframe\">\n",
       "  <thead>\n",
       "    <tr style=\"text-align: right;\">\n",
       "      <th></th>\n",
       "      <th>prod_id</th>\n",
       "      <th>prod_name</th>\n",
       "      <th>prod_loc</th>\n",
       "    </tr>\n",
       "  </thead>\n",
       "  <tbody>\n",
       "    <tr>\n",
       "      <th>one</th>\n",
       "      <td>1001</td>\n",
       "      <td>bag</td>\n",
       "      <td>andheri</td>\n",
       "    </tr>\n",
       "    <tr>\n",
       "      <th>two</th>\n",
       "      <td>3009</td>\n",
       "      <td>shoe</td>\n",
       "      <td>parle</td>\n",
       "    </tr>\n",
       "    <tr>\n",
       "      <th>three</th>\n",
       "      <td>2889</td>\n",
       "      <td>glares</td>\n",
       "      <td>dadar</td>\n",
       "    </tr>\n",
       "    <tr>\n",
       "      <th>four</th>\n",
       "      <td>3221</td>\n",
       "      <td>book</td>\n",
       "      <td>bandra</td>\n",
       "    </tr>\n",
       "    <tr>\n",
       "      <th>five</th>\n",
       "      <td>4006</td>\n",
       "      <td>pen</td>\n",
       "      <td>kurla</td>\n",
       "    </tr>\n",
       "  </tbody>\n",
       "</table>\n",
       "</div>"
      ],
      "text/plain": [
       "       prod_id prod_name prod_loc\n",
       "one       1001       bag  andheri\n",
       "two       3009      shoe    parle\n",
       "three     2889    glares    dadar\n",
       "four      3221      book   bandra\n",
       "five      4006       pen    kurla"
      ]
     },
     "execution_count": 60,
     "metadata": {},
     "output_type": "execute_result"
    }
   ],
   "source": [
    "demopd"
   ]
  },
  {
   "cell_type": "code",
   "execution_count": 61,
   "id": "a2b03077-b65a-45a4-967d-4608c437d6cd",
   "metadata": {},
   "outputs": [],
   "source": [
    "#Display transpose of the above dataframe"
   ]
  },
  {
   "cell_type": "code",
   "execution_count": 62,
   "id": "c3492a03-4b03-488a-ba85-a13385d222a5",
   "metadata": {},
   "outputs": [
    {
     "data": {
      "text/html": [
       "<div>\n",
       "<style scoped>\n",
       "    .dataframe tbody tr th:only-of-type {\n",
       "        vertical-align: middle;\n",
       "    }\n",
       "\n",
       "    .dataframe tbody tr th {\n",
       "        vertical-align: top;\n",
       "    }\n",
       "\n",
       "    .dataframe thead th {\n",
       "        text-align: right;\n",
       "    }\n",
       "</style>\n",
       "<table border=\"1\" class=\"dataframe\">\n",
       "  <thead>\n",
       "    <tr style=\"text-align: right;\">\n",
       "      <th></th>\n",
       "      <th>one</th>\n",
       "      <th>two</th>\n",
       "      <th>three</th>\n",
       "      <th>four</th>\n",
       "      <th>five</th>\n",
       "    </tr>\n",
       "  </thead>\n",
       "  <tbody>\n",
       "    <tr>\n",
       "      <th>prod_id</th>\n",
       "      <td>1001</td>\n",
       "      <td>3009</td>\n",
       "      <td>2889</td>\n",
       "      <td>3221</td>\n",
       "      <td>4006</td>\n",
       "    </tr>\n",
       "    <tr>\n",
       "      <th>prod_name</th>\n",
       "      <td>bag</td>\n",
       "      <td>shoe</td>\n",
       "      <td>glares</td>\n",
       "      <td>book</td>\n",
       "      <td>pen</td>\n",
       "    </tr>\n",
       "    <tr>\n",
       "      <th>prod_loc</th>\n",
       "      <td>andheri</td>\n",
       "      <td>parle</td>\n",
       "      <td>dadar</td>\n",
       "      <td>bandra</td>\n",
       "      <td>kurla</td>\n",
       "    </tr>\n",
       "  </tbody>\n",
       "</table>\n",
       "</div>"
      ],
      "text/plain": [
       "               one    two   three    four   five\n",
       "prod_id       1001   3009    2889    3221   4006\n",
       "prod_name      bag   shoe  glares    book    pen\n",
       "prod_loc   andheri  parle   dadar  bandra  kurla"
      ]
     },
     "execution_count": 62,
     "metadata": {},
     "output_type": "execute_result"
    }
   ],
   "source": [
    "demopd.T"
   ]
  },
  {
   "cell_type": "code",
   "execution_count": 63,
   "id": "861e14c0-ab4f-4008-8df2-cf7aa3fa4cdc",
   "metadata": {},
   "outputs": [
    {
     "data": {
      "text/html": [
       "<div>\n",
       "<style scoped>\n",
       "    .dataframe tbody tr th:only-of-type {\n",
       "        vertical-align: middle;\n",
       "    }\n",
       "\n",
       "    .dataframe tbody tr th {\n",
       "        vertical-align: top;\n",
       "    }\n",
       "\n",
       "    .dataframe thead th {\n",
       "        text-align: right;\n",
       "    }\n",
       "</style>\n",
       "<table border=\"1\" class=\"dataframe\">\n",
       "  <thead>\n",
       "    <tr style=\"text-align: right;\">\n",
       "      <th></th>\n",
       "      <th>prod_id</th>\n",
       "      <th>prod_name</th>\n",
       "      <th>prod_loc</th>\n",
       "    </tr>\n",
       "  </thead>\n",
       "  <tbody>\n",
       "    <tr>\n",
       "      <th>one</th>\n",
       "      <td>1001</td>\n",
       "      <td>bag</td>\n",
       "      <td>andheri</td>\n",
       "    </tr>\n",
       "    <tr>\n",
       "      <th>two</th>\n",
       "      <td>3009</td>\n",
       "      <td>shoe</td>\n",
       "      <td>parle</td>\n",
       "    </tr>\n",
       "    <tr>\n",
       "      <th>three</th>\n",
       "      <td>2889</td>\n",
       "      <td>glares</td>\n",
       "      <td>dadar</td>\n",
       "    </tr>\n",
       "    <tr>\n",
       "      <th>four</th>\n",
       "      <td>3221</td>\n",
       "      <td>book</td>\n",
       "      <td>bandra</td>\n",
       "    </tr>\n",
       "    <tr>\n",
       "      <th>five</th>\n",
       "      <td>4006</td>\n",
       "      <td>pen</td>\n",
       "      <td>kurla</td>\n",
       "    </tr>\n",
       "  </tbody>\n",
       "</table>\n",
       "</div>"
      ],
      "text/plain": [
       "       prod_id prod_name prod_loc\n",
       "one       1001       bag  andheri\n",
       "two       3009      shoe    parle\n",
       "three     2889    glares    dadar\n",
       "four      3221      book   bandra\n",
       "five      4006       pen    kurla"
      ]
     },
     "execution_count": 63,
     "metadata": {},
     "output_type": "execute_result"
    }
   ],
   "source": [
    "demopd"
   ]
  },
  {
   "cell_type": "code",
   "execution_count": 64,
   "id": "cc8406ac-3996-4b1a-8c68-40e667829fc3",
   "metadata": {},
   "outputs": [],
   "source": [
    "#sorting name column"
   ]
  },
  {
   "cell_type": "code",
   "execution_count": 66,
   "id": "991f786b-6555-45a9-879a-bb88587f214a",
   "metadata": {},
   "outputs": [],
   "source": [
    "newdemopd=demopd.sort_values('prod_name')"
   ]
  },
  {
   "cell_type": "code",
   "execution_count": 67,
   "id": "9f2a4173-b325-41e2-8599-59088b36392c",
   "metadata": {},
   "outputs": [
    {
     "data": {
      "text/html": [
       "<div>\n",
       "<style scoped>\n",
       "    .dataframe tbody tr th:only-of-type {\n",
       "        vertical-align: middle;\n",
       "    }\n",
       "\n",
       "    .dataframe tbody tr th {\n",
       "        vertical-align: top;\n",
       "    }\n",
       "\n",
       "    .dataframe thead th {\n",
       "        text-align: right;\n",
       "    }\n",
       "</style>\n",
       "<table border=\"1\" class=\"dataframe\">\n",
       "  <thead>\n",
       "    <tr style=\"text-align: right;\">\n",
       "      <th></th>\n",
       "      <th>prod_id</th>\n",
       "      <th>prod_name</th>\n",
       "      <th>prod_loc</th>\n",
       "    </tr>\n",
       "  </thead>\n",
       "  <tbody>\n",
       "    <tr>\n",
       "      <th>one</th>\n",
       "      <td>1001</td>\n",
       "      <td>bag</td>\n",
       "      <td>andheri</td>\n",
       "    </tr>\n",
       "    <tr>\n",
       "      <th>four</th>\n",
       "      <td>3221</td>\n",
       "      <td>book</td>\n",
       "      <td>bandra</td>\n",
       "    </tr>\n",
       "    <tr>\n",
       "      <th>three</th>\n",
       "      <td>2889</td>\n",
       "      <td>glares</td>\n",
       "      <td>dadar</td>\n",
       "    </tr>\n",
       "    <tr>\n",
       "      <th>five</th>\n",
       "      <td>4006</td>\n",
       "      <td>pen</td>\n",
       "      <td>kurla</td>\n",
       "    </tr>\n",
       "    <tr>\n",
       "      <th>two</th>\n",
       "      <td>3009</td>\n",
       "      <td>shoe</td>\n",
       "      <td>parle</td>\n",
       "    </tr>\n",
       "  </tbody>\n",
       "</table>\n",
       "</div>"
      ],
      "text/plain": [
       "       prod_id prod_name prod_loc\n",
       "one       1001       bag  andheri\n",
       "four      3221      book   bandra\n",
       "three     2889    glares    dadar\n",
       "five      4006       pen    kurla\n",
       "two       3009      shoe    parle"
      ]
     },
     "execution_count": 67,
     "metadata": {},
     "output_type": "execute_result"
    }
   ],
   "source": [
    "newdemopd"
   ]
  },
  {
   "cell_type": "code",
   "execution_count": 68,
   "id": "6bf8a1fc-4033-416d-a3a5-a6e1bc76ea57",
   "metadata": {},
   "outputs": [],
   "source": [
    "newdemopd=demopd.sort_values('prod_loc')"
   ]
  },
  {
   "cell_type": "code",
   "execution_count": 69,
   "id": "70462daf-42a7-4cb1-a09a-5eee4712825d",
   "metadata": {},
   "outputs": [
    {
     "data": {
      "text/html": [
       "<div>\n",
       "<style scoped>\n",
       "    .dataframe tbody tr th:only-of-type {\n",
       "        vertical-align: middle;\n",
       "    }\n",
       "\n",
       "    .dataframe tbody tr th {\n",
       "        vertical-align: top;\n",
       "    }\n",
       "\n",
       "    .dataframe thead th {\n",
       "        text-align: right;\n",
       "    }\n",
       "</style>\n",
       "<table border=\"1\" class=\"dataframe\">\n",
       "  <thead>\n",
       "    <tr style=\"text-align: right;\">\n",
       "      <th></th>\n",
       "      <th>prod_id</th>\n",
       "      <th>prod_name</th>\n",
       "      <th>prod_loc</th>\n",
       "    </tr>\n",
       "  </thead>\n",
       "  <tbody>\n",
       "    <tr>\n",
       "      <th>one</th>\n",
       "      <td>1001</td>\n",
       "      <td>bag</td>\n",
       "      <td>andheri</td>\n",
       "    </tr>\n",
       "    <tr>\n",
       "      <th>four</th>\n",
       "      <td>3221</td>\n",
       "      <td>book</td>\n",
       "      <td>bandra</td>\n",
       "    </tr>\n",
       "    <tr>\n",
       "      <th>three</th>\n",
       "      <td>2889</td>\n",
       "      <td>glares</td>\n",
       "      <td>dadar</td>\n",
       "    </tr>\n",
       "    <tr>\n",
       "      <th>five</th>\n",
       "      <td>4006</td>\n",
       "      <td>pen</td>\n",
       "      <td>kurla</td>\n",
       "    </tr>\n",
       "    <tr>\n",
       "      <th>two</th>\n",
       "      <td>3009</td>\n",
       "      <td>shoe</td>\n",
       "      <td>parle</td>\n",
       "    </tr>\n",
       "  </tbody>\n",
       "</table>\n",
       "</div>"
      ],
      "text/plain": [
       "       prod_id prod_name prod_loc\n",
       "one       1001       bag  andheri\n",
       "four      3221      book   bandra\n",
       "three     2889    glares    dadar\n",
       "five      4006       pen    kurla\n",
       "two       3009      shoe    parle"
      ]
     },
     "execution_count": 69,
     "metadata": {},
     "output_type": "execute_result"
    }
   ],
   "source": [
    "newdemopd"
   ]
  },
  {
   "cell_type": "code",
   "execution_count": 70,
   "id": "41d0ed57-2dd2-4827-a32f-7e59a441c236",
   "metadata": {},
   "outputs": [],
   "source": [
    "#Location method loc()"
   ]
  },
  {
   "cell_type": "code",
   "execution_count": 72,
   "id": "1aa9f491-c332-4358-b0b3-2e1c80da6df8",
   "metadata": {},
   "outputs": [
    {
     "data": {
      "text/plain": [
       "0.6868133775854757"
      ]
     },
     "execution_count": 72,
     "metadata": {},
     "output_type": "execute_result"
    }
   ],
   "source": [
    "dtf.loc[0,0]"
   ]
  },
  {
   "cell_type": "code",
   "execution_count": 74,
   "id": "7bdab49b-1083-49c6-8c96-ca87bcb514ea",
   "metadata": {},
   "outputs": [],
   "source": [
    "dtf.loc[1,1]=453"
   ]
  },
  {
   "cell_type": "code",
   "execution_count": 76,
   "id": "124c2981-9e29-46b9-93aa-ad31da683575",
   "metadata": {},
   "outputs": [
    {
     "data": {
      "text/html": [
       "<div>\n",
       "<style scoped>\n",
       "    .dataframe tbody tr th:only-of-type {\n",
       "        vertical-align: middle;\n",
       "    }\n",
       "\n",
       "    .dataframe tbody tr th {\n",
       "        vertical-align: top;\n",
       "    }\n",
       "\n",
       "    .dataframe thead th {\n",
       "        text-align: right;\n",
       "    }\n",
       "</style>\n",
       "<table border=\"1\" class=\"dataframe\">\n",
       "  <thead>\n",
       "    <tr style=\"text-align: right;\">\n",
       "      <th></th>\n",
       "      <th>0</th>\n",
       "      <th>1</th>\n",
       "      <th>2</th>\n",
       "      <th>3</th>\n",
       "      <th>4</th>\n",
       "      <th>5</th>\n",
       "      <th>6</th>\n",
       "      <th>7</th>\n",
       "      <th>8</th>\n",
       "      <th>9</th>\n",
       "    </tr>\n",
       "  </thead>\n",
       "  <tbody>\n",
       "    <tr>\n",
       "      <th>0</th>\n",
       "      <td>0.686813</td>\n",
       "      <td>0.439122</td>\n",
       "      <td>0.665662</td>\n",
       "      <td>0.213850</td>\n",
       "      <td>0.706331</td>\n",
       "      <td>0.319823</td>\n",
       "      <td>0.465103</td>\n",
       "      <td>0.850619</td>\n",
       "      <td>0.308660</td>\n",
       "      <td>0.528657</td>\n",
       "    </tr>\n",
       "    <tr>\n",
       "      <th>1</th>\n",
       "      <td>xyz</td>\n",
       "      <td>453.000000</td>\n",
       "      <td>yyy</td>\n",
       "      <td>0.120704</td>\n",
       "      <td>0.436032</td>\n",
       "      <td>0.761697</td>\n",
       "      <td>0.236471</td>\n",
       "      <td>0.464042</td>\n",
       "      <td>0.031054</td>\n",
       "      <td>0.053477</td>\n",
       "    </tr>\n",
       "    <tr>\n",
       "      <th>2</th>\n",
       "      <td>0.790142</td>\n",
       "      <td>0.513902</td>\n",
       "      <td>0.705969</td>\n",
       "      <td>0.636234</td>\n",
       "      <td>0.053419</td>\n",
       "      <td>0.268141</td>\n",
       "      <td>0.759499</td>\n",
       "      <td>0.674553</td>\n",
       "      <td>0.441176</td>\n",
       "      <td>0.272632</td>\n",
       "    </tr>\n",
       "    <tr>\n",
       "      <th>3</th>\n",
       "      <td>0.517739</td>\n",
       "      <td>0.985358</td>\n",
       "      <td>0.926605</td>\n",
       "      <td>0.059122</td>\n",
       "      <td>0.556060</td>\n",
       "      <td>0.626569</td>\n",
       "      <td>0.742991</td>\n",
       "      <td>0.076277</td>\n",
       "      <td>0.391901</td>\n",
       "      <td>0.735851</td>\n",
       "    </tr>\n",
       "  </tbody>\n",
       "</table>\n",
       "</div>"
      ],
      "text/plain": [
       "          0           1         2         3         4         5         6  \\\n",
       "0  0.686813    0.439122  0.665662  0.213850  0.706331  0.319823  0.465103   \n",
       "1       xyz  453.000000       yyy  0.120704  0.436032  0.761697  0.236471   \n",
       "2  0.790142    0.513902  0.705969  0.636234  0.053419  0.268141  0.759499   \n",
       "3  0.517739    0.985358  0.926605  0.059122  0.556060  0.626569  0.742991   \n",
       "\n",
       "          7         8         9  \n",
       "0  0.850619  0.308660  0.528657  \n",
       "1  0.464042  0.031054  0.053477  \n",
       "2  0.674553  0.441176  0.272632  \n",
       "3  0.076277  0.391901  0.735851  "
      ]
     },
     "execution_count": 76,
     "metadata": {},
     "output_type": "execute_result"
    }
   ],
   "source": [
    "dtf.head(4)"
   ]
  },
  {
   "cell_type": "code",
   "execution_count": 77,
   "id": "5e0da6af-1e80-4ce6-afdf-98e4ac46a72c",
   "metadata": {},
   "outputs": [],
   "source": [
    "dtf.columns=list(\"ABCDEFGHIJ\")"
   ]
  },
  {
   "cell_type": "code",
   "execution_count": 79,
   "id": "89f02294-ee40-4cd2-bd21-45b628818257",
   "metadata": {},
   "outputs": [
    {
     "data": {
      "text/html": [
       "<div>\n",
       "<style scoped>\n",
       "    .dataframe tbody tr th:only-of-type {\n",
       "        vertical-align: middle;\n",
       "    }\n",
       "\n",
       "    .dataframe tbody tr th {\n",
       "        vertical-align: top;\n",
       "    }\n",
       "\n",
       "    .dataframe thead th {\n",
       "        text-align: right;\n",
       "    }\n",
       "</style>\n",
       "<table border=\"1\" class=\"dataframe\">\n",
       "  <thead>\n",
       "    <tr style=\"text-align: right;\">\n",
       "      <th></th>\n",
       "      <th>A</th>\n",
       "      <th>B</th>\n",
       "      <th>C</th>\n",
       "      <th>D</th>\n",
       "      <th>E</th>\n",
       "      <th>F</th>\n",
       "      <th>G</th>\n",
       "      <th>H</th>\n",
       "      <th>I</th>\n",
       "      <th>J</th>\n",
       "    </tr>\n",
       "  </thead>\n",
       "  <tbody>\n",
       "    <tr>\n",
       "      <th>0</th>\n",
       "      <td>0.686813</td>\n",
       "      <td>0.439122</td>\n",
       "      <td>0.665662</td>\n",
       "      <td>0.213850</td>\n",
       "      <td>0.706331</td>\n",
       "      <td>0.319823</td>\n",
       "      <td>0.465103</td>\n",
       "      <td>0.850619</td>\n",
       "      <td>0.308660</td>\n",
       "      <td>0.528657</td>\n",
       "    </tr>\n",
       "    <tr>\n",
       "      <th>1</th>\n",
       "      <td>xyz</td>\n",
       "      <td>453.000000</td>\n",
       "      <td>yyy</td>\n",
       "      <td>0.120704</td>\n",
       "      <td>0.436032</td>\n",
       "      <td>0.761697</td>\n",
       "      <td>0.236471</td>\n",
       "      <td>0.464042</td>\n",
       "      <td>0.031054</td>\n",
       "      <td>0.053477</td>\n",
       "    </tr>\n",
       "    <tr>\n",
       "      <th>2</th>\n",
       "      <td>0.790142</td>\n",
       "      <td>0.513902</td>\n",
       "      <td>0.705969</td>\n",
       "      <td>0.636234</td>\n",
       "      <td>0.053419</td>\n",
       "      <td>0.268141</td>\n",
       "      <td>0.759499</td>\n",
       "      <td>0.674553</td>\n",
       "      <td>0.441176</td>\n",
       "      <td>0.272632</td>\n",
       "    </tr>\n",
       "  </tbody>\n",
       "</table>\n",
       "</div>"
      ],
      "text/plain": [
       "          A           B         C         D         E         F         G  \\\n",
       "0  0.686813    0.439122  0.665662  0.213850  0.706331  0.319823  0.465103   \n",
       "1       xyz  453.000000       yyy  0.120704  0.436032  0.761697  0.236471   \n",
       "2  0.790142    0.513902  0.705969  0.636234  0.053419  0.268141  0.759499   \n",
       "\n",
       "          H         I         J  \n",
       "0  0.850619  0.308660  0.528657  \n",
       "1  0.464042  0.031054  0.053477  \n",
       "2  0.674553  0.441176  0.272632  "
      ]
     },
     "execution_count": 79,
     "metadata": {},
     "output_type": "execute_result"
    }
   ],
   "source": [
    "dtf.head(3)"
   ]
  },
  {
   "cell_type": "code",
   "execution_count": 83,
   "id": "75560225-e0fd-4144-9d8d-a757e49f894f",
   "metadata": {},
   "outputs": [],
   "source": [
    "dtf.loc[0,'B']=989"
   ]
  },
  {
   "cell_type": "code",
   "execution_count": 84,
   "id": "a4f6210f-41b7-4e1a-91d6-ef626fcbbdc3",
   "metadata": {},
   "outputs": [
    {
     "data": {
      "text/html": [
       "<div>\n",
       "<style scoped>\n",
       "    .dataframe tbody tr th:only-of-type {\n",
       "        vertical-align: middle;\n",
       "    }\n",
       "\n",
       "    .dataframe tbody tr th {\n",
       "        vertical-align: top;\n",
       "    }\n",
       "\n",
       "    .dataframe thead th {\n",
       "        text-align: right;\n",
       "    }\n",
       "</style>\n",
       "<table border=\"1\" class=\"dataframe\">\n",
       "  <thead>\n",
       "    <tr style=\"text-align: right;\">\n",
       "      <th></th>\n",
       "      <th>A</th>\n",
       "      <th>B</th>\n",
       "      <th>C</th>\n",
       "      <th>D</th>\n",
       "      <th>E</th>\n",
       "      <th>F</th>\n",
       "      <th>G</th>\n",
       "      <th>H</th>\n",
       "      <th>I</th>\n",
       "      <th>J</th>\n",
       "    </tr>\n",
       "  </thead>\n",
       "  <tbody>\n",
       "    <tr>\n",
       "      <th>0</th>\n",
       "      <td>0.686813</td>\n",
       "      <td>989.000000</td>\n",
       "      <td>0.665662</td>\n",
       "      <td>0.213850</td>\n",
       "      <td>0.706331</td>\n",
       "      <td>0.319823</td>\n",
       "      <td>0.465103</td>\n",
       "      <td>0.850619</td>\n",
       "      <td>0.308660</td>\n",
       "      <td>0.528657</td>\n",
       "    </tr>\n",
       "    <tr>\n",
       "      <th>1</th>\n",
       "      <td>xyz</td>\n",
       "      <td>453.000000</td>\n",
       "      <td>yyy</td>\n",
       "      <td>0.120704</td>\n",
       "      <td>0.436032</td>\n",
       "      <td>0.761697</td>\n",
       "      <td>0.236471</td>\n",
       "      <td>0.464042</td>\n",
       "      <td>0.031054</td>\n",
       "      <td>0.053477</td>\n",
       "    </tr>\n",
       "    <tr>\n",
       "      <th>2</th>\n",
       "      <td>0.790142</td>\n",
       "      <td>0.513902</td>\n",
       "      <td>0.705969</td>\n",
       "      <td>0.636234</td>\n",
       "      <td>0.053419</td>\n",
       "      <td>0.268141</td>\n",
       "      <td>0.759499</td>\n",
       "      <td>0.674553</td>\n",
       "      <td>0.441176</td>\n",
       "      <td>0.272632</td>\n",
       "    </tr>\n",
       "    <tr>\n",
       "      <th>3</th>\n",
       "      <td>0.517739</td>\n",
       "      <td>0.985358</td>\n",
       "      <td>0.926605</td>\n",
       "      <td>0.059122</td>\n",
       "      <td>0.556060</td>\n",
       "      <td>0.626569</td>\n",
       "      <td>0.742991</td>\n",
       "      <td>0.076277</td>\n",
       "      <td>0.391901</td>\n",
       "      <td>0.735851</td>\n",
       "    </tr>\n",
       "    <tr>\n",
       "      <th>4</th>\n",
       "      <td>0.826711</td>\n",
       "      <td>0.504780</td>\n",
       "      <td>0.833815</td>\n",
       "      <td>0.502340</td>\n",
       "      <td>0.060995</td>\n",
       "      <td>0.755538</td>\n",
       "      <td>0.756695</td>\n",
       "      <td>0.284479</td>\n",
       "      <td>0.956990</td>\n",
       "      <td>0.090080</td>\n",
       "    </tr>\n",
       "  </tbody>\n",
       "</table>\n",
       "</div>"
      ],
      "text/plain": [
       "          A           B         C         D         E         F         G  \\\n",
       "0  0.686813  989.000000  0.665662  0.213850  0.706331  0.319823  0.465103   \n",
       "1       xyz  453.000000       yyy  0.120704  0.436032  0.761697  0.236471   \n",
       "2  0.790142    0.513902  0.705969  0.636234  0.053419  0.268141  0.759499   \n",
       "3  0.517739    0.985358  0.926605  0.059122  0.556060  0.626569  0.742991   \n",
       "4  0.826711    0.504780  0.833815  0.502340  0.060995  0.755538  0.756695   \n",
       "\n",
       "          H         I         J  \n",
       "0  0.850619  0.308660  0.528657  \n",
       "1  0.464042  0.031054  0.053477  \n",
       "2  0.674553  0.441176  0.272632  \n",
       "3  0.076277  0.391901  0.735851  \n",
       "4  0.284479  0.956990  0.090080  "
      ]
     },
     "execution_count": 84,
     "metadata": {},
     "output_type": "execute_result"
    }
   ],
   "source": [
    "dtf.head()"
   ]
  },
  {
   "cell_type": "code",
   "execution_count": 85,
   "id": "b77abc5f-b643-4c15-996b-b25ff0a705c0",
   "metadata": {},
   "outputs": [],
   "source": [
    "dtfnew=pd.DataFrame(np.random.rand(10,5))"
   ]
  },
  {
   "cell_type": "code",
   "execution_count": 86,
   "id": "de60e7b6-f3cb-41ae-a5bd-deaf9ba3c9eb",
   "metadata": {},
   "outputs": [
    {
     "data": {
      "text/html": [
       "<div>\n",
       "<style scoped>\n",
       "    .dataframe tbody tr th:only-of-type {\n",
       "        vertical-align: middle;\n",
       "    }\n",
       "\n",
       "    .dataframe tbody tr th {\n",
       "        vertical-align: top;\n",
       "    }\n",
       "\n",
       "    .dataframe thead th {\n",
       "        text-align: right;\n",
       "    }\n",
       "</style>\n",
       "<table border=\"1\" class=\"dataframe\">\n",
       "  <thead>\n",
       "    <tr style=\"text-align: right;\">\n",
       "      <th></th>\n",
       "      <th>0</th>\n",
       "      <th>1</th>\n",
       "      <th>2</th>\n",
       "      <th>3</th>\n",
       "      <th>4</th>\n",
       "    </tr>\n",
       "  </thead>\n",
       "  <tbody>\n",
       "    <tr>\n",
       "      <th>0</th>\n",
       "      <td>0.146069</td>\n",
       "      <td>0.359899</td>\n",
       "      <td>0.591524</td>\n",
       "      <td>0.448138</td>\n",
       "      <td>0.841178</td>\n",
       "    </tr>\n",
       "    <tr>\n",
       "      <th>1</th>\n",
       "      <td>0.338251</td>\n",
       "      <td>0.884513</td>\n",
       "      <td>0.841140</td>\n",
       "      <td>0.496961</td>\n",
       "      <td>0.889141</td>\n",
       "    </tr>\n",
       "    <tr>\n",
       "      <th>2</th>\n",
       "      <td>0.746397</td>\n",
       "      <td>0.413263</td>\n",
       "      <td>0.639694</td>\n",
       "      <td>0.613370</td>\n",
       "      <td>0.291693</td>\n",
       "    </tr>\n",
       "    <tr>\n",
       "      <th>3</th>\n",
       "      <td>0.701157</td>\n",
       "      <td>0.720281</td>\n",
       "      <td>0.301054</td>\n",
       "      <td>0.688463</td>\n",
       "      <td>0.069005</td>\n",
       "    </tr>\n",
       "    <tr>\n",
       "      <th>4</th>\n",
       "      <td>0.553853</td>\n",
       "      <td>0.926055</td>\n",
       "      <td>0.410952</td>\n",
       "      <td>0.695136</td>\n",
       "      <td>0.127980</td>\n",
       "    </tr>\n",
       "    <tr>\n",
       "      <th>5</th>\n",
       "      <td>0.284643</td>\n",
       "      <td>0.739335</td>\n",
       "      <td>0.900844</td>\n",
       "      <td>0.136035</td>\n",
       "      <td>0.079802</td>\n",
       "    </tr>\n",
       "    <tr>\n",
       "      <th>6</th>\n",
       "      <td>0.680713</td>\n",
       "      <td>0.921836</td>\n",
       "      <td>0.801044</td>\n",
       "      <td>0.614277</td>\n",
       "      <td>0.462013</td>\n",
       "    </tr>\n",
       "    <tr>\n",
       "      <th>7</th>\n",
       "      <td>0.379640</td>\n",
       "      <td>0.514616</td>\n",
       "      <td>0.627052</td>\n",
       "      <td>0.160120</td>\n",
       "      <td>0.842406</td>\n",
       "    </tr>\n",
       "    <tr>\n",
       "      <th>8</th>\n",
       "      <td>0.961360</td>\n",
       "      <td>0.798438</td>\n",
       "      <td>0.682374</td>\n",
       "      <td>0.924336</td>\n",
       "      <td>0.282614</td>\n",
       "    </tr>\n",
       "    <tr>\n",
       "      <th>9</th>\n",
       "      <td>0.568640</td>\n",
       "      <td>0.427049</td>\n",
       "      <td>0.128035</td>\n",
       "      <td>0.720931</td>\n",
       "      <td>0.093987</td>\n",
       "    </tr>\n",
       "  </tbody>\n",
       "</table>\n",
       "</div>"
      ],
      "text/plain": [
       "          0         1         2         3         4\n",
       "0  0.146069  0.359899  0.591524  0.448138  0.841178\n",
       "1  0.338251  0.884513  0.841140  0.496961  0.889141\n",
       "2  0.746397  0.413263  0.639694  0.613370  0.291693\n",
       "3  0.701157  0.720281  0.301054  0.688463  0.069005\n",
       "4  0.553853  0.926055  0.410952  0.695136  0.127980\n",
       "5  0.284643  0.739335  0.900844  0.136035  0.079802\n",
       "6  0.680713  0.921836  0.801044  0.614277  0.462013\n",
       "7  0.379640  0.514616  0.627052  0.160120  0.842406\n",
       "8  0.961360  0.798438  0.682374  0.924336  0.282614\n",
       "9  0.568640  0.427049  0.128035  0.720931  0.093987"
      ]
     },
     "execution_count": 86,
     "metadata": {},
     "output_type": "execute_result"
    }
   ],
   "source": [
    "dtfnew"
   ]
  },
  {
   "cell_type": "code",
   "execution_count": 88,
   "id": "33134a8b-0d71-4524-a92e-1f6d04eeb460",
   "metadata": {},
   "outputs": [
    {
     "data": {
      "text/html": [
       "<div>\n",
       "<style scoped>\n",
       "    .dataframe tbody tr th:only-of-type {\n",
       "        vertical-align: middle;\n",
       "    }\n",
       "\n",
       "    .dataframe tbody tr th {\n",
       "        vertical-align: top;\n",
       "    }\n",
       "\n",
       "    .dataframe thead th {\n",
       "        text-align: right;\n",
       "    }\n",
       "</style>\n",
       "<table border=\"1\" class=\"dataframe\">\n",
       "  <thead>\n",
       "    <tr style=\"text-align: right;\">\n",
       "      <th></th>\n",
       "      <th>4</th>\n",
       "      <th>3</th>\n",
       "      <th>2</th>\n",
       "      <th>1</th>\n",
       "      <th>0</th>\n",
       "    </tr>\n",
       "  </thead>\n",
       "  <tbody>\n",
       "    <tr>\n",
       "      <th>0</th>\n",
       "      <td>0.841178</td>\n",
       "      <td>0.448138</td>\n",
       "      <td>0.591524</td>\n",
       "      <td>0.359899</td>\n",
       "      <td>0.146069</td>\n",
       "    </tr>\n",
       "    <tr>\n",
       "      <th>1</th>\n",
       "      <td>0.889141</td>\n",
       "      <td>0.496961</td>\n",
       "      <td>0.841140</td>\n",
       "      <td>0.884513</td>\n",
       "      <td>0.338251</td>\n",
       "    </tr>\n",
       "    <tr>\n",
       "      <th>2</th>\n",
       "      <td>0.291693</td>\n",
       "      <td>0.613370</td>\n",
       "      <td>0.639694</td>\n",
       "      <td>0.413263</td>\n",
       "      <td>0.746397</td>\n",
       "    </tr>\n",
       "    <tr>\n",
       "      <th>3</th>\n",
       "      <td>0.069005</td>\n",
       "      <td>0.688463</td>\n",
       "      <td>0.301054</td>\n",
       "      <td>0.720281</td>\n",
       "      <td>0.701157</td>\n",
       "    </tr>\n",
       "    <tr>\n",
       "      <th>4</th>\n",
       "      <td>0.127980</td>\n",
       "      <td>0.695136</td>\n",
       "      <td>0.410952</td>\n",
       "      <td>0.926055</td>\n",
       "      <td>0.553853</td>\n",
       "    </tr>\n",
       "    <tr>\n",
       "      <th>5</th>\n",
       "      <td>0.079802</td>\n",
       "      <td>0.136035</td>\n",
       "      <td>0.900844</td>\n",
       "      <td>0.739335</td>\n",
       "      <td>0.284643</td>\n",
       "    </tr>\n",
       "    <tr>\n",
       "      <th>6</th>\n",
       "      <td>0.462013</td>\n",
       "      <td>0.614277</td>\n",
       "      <td>0.801044</td>\n",
       "      <td>0.921836</td>\n",
       "      <td>0.680713</td>\n",
       "    </tr>\n",
       "    <tr>\n",
       "      <th>7</th>\n",
       "      <td>0.842406</td>\n",
       "      <td>0.160120</td>\n",
       "      <td>0.627052</td>\n",
       "      <td>0.514616</td>\n",
       "      <td>0.379640</td>\n",
       "    </tr>\n",
       "    <tr>\n",
       "      <th>8</th>\n",
       "      <td>0.282614</td>\n",
       "      <td>0.924336</td>\n",
       "      <td>0.682374</td>\n",
       "      <td>0.798438</td>\n",
       "      <td>0.961360</td>\n",
       "    </tr>\n",
       "    <tr>\n",
       "      <th>9</th>\n",
       "      <td>0.093987</td>\n",
       "      <td>0.720931</td>\n",
       "      <td>0.128035</td>\n",
       "      <td>0.427049</td>\n",
       "      <td>0.568640</td>\n",
       "    </tr>\n",
       "  </tbody>\n",
       "</table>\n",
       "</div>"
      ],
      "text/plain": [
       "          4         3         2         1         0\n",
       "0  0.841178  0.448138  0.591524  0.359899  0.146069\n",
       "1  0.889141  0.496961  0.841140  0.884513  0.338251\n",
       "2  0.291693  0.613370  0.639694  0.413263  0.746397\n",
       "3  0.069005  0.688463  0.301054  0.720281  0.701157\n",
       "4  0.127980  0.695136  0.410952  0.926055  0.553853\n",
       "5  0.079802  0.136035  0.900844  0.739335  0.284643\n",
       "6  0.462013  0.614277  0.801044  0.921836  0.680713\n",
       "7  0.842406  0.160120  0.627052  0.514616  0.379640\n",
       "8  0.282614  0.924336  0.682374  0.798438  0.961360\n",
       "9  0.093987  0.720931  0.128035  0.427049  0.568640"
      ]
     },
     "execution_count": 88,
     "metadata": {},
     "output_type": "execute_result"
    }
   ],
   "source": [
    "dtfnew.sort_index(axis=1,ascending=False)"
   ]
  },
  {
   "cell_type": "code",
   "execution_count": null,
   "id": "90516213-d28d-4eb7-96be-f8b54914bbf3",
   "metadata": {},
   "outputs": [],
   "source": [
    "#dropping dataframe axis at run time"
   ]
  },
  {
   "cell_type": "code",
   "execution_count": 89,
   "id": "2af2eeee-44ee-41f4-809c-e6b57db51799",
   "metadata": {},
   "outputs": [],
   "source": [
    "newdt=dtfnew"
   ]
  },
  {
   "cell_type": "code",
   "execution_count": 94,
   "id": "3a223893-8b8e-43d7-8543-865d933cc9a1",
   "metadata": {},
   "outputs": [
    {
     "data": {
      "text/html": [
       "<div>\n",
       "<style scoped>\n",
       "    .dataframe tbody tr th:only-of-type {\n",
       "        vertical-align: middle;\n",
       "    }\n",
       "\n",
       "    .dataframe tbody tr th {\n",
       "        vertical-align: top;\n",
       "    }\n",
       "\n",
       "    .dataframe thead th {\n",
       "        text-align: right;\n",
       "    }\n",
       "</style>\n",
       "<table border=\"1\" class=\"dataframe\">\n",
       "  <thead>\n",
       "    <tr style=\"text-align: right;\">\n",
       "      <th></th>\n",
       "      <th>0</th>\n",
       "      <th>1</th>\n",
       "      <th>3</th>\n",
       "      <th>4</th>\n",
       "    </tr>\n",
       "  </thead>\n",
       "  <tbody>\n",
       "    <tr>\n",
       "      <th>0</th>\n",
       "      <td>0.146069</td>\n",
       "      <td>0.359899</td>\n",
       "      <td>0.448138</td>\n",
       "      <td>0.841178</td>\n",
       "    </tr>\n",
       "    <tr>\n",
       "      <th>1</th>\n",
       "      <td>0.338251</td>\n",
       "      <td>0.884513</td>\n",
       "      <td>0.496961</td>\n",
       "      <td>0.889141</td>\n",
       "    </tr>\n",
       "    <tr>\n",
       "      <th>2</th>\n",
       "      <td>0.746397</td>\n",
       "      <td>0.413263</td>\n",
       "      <td>0.613370</td>\n",
       "      <td>0.291693</td>\n",
       "    </tr>\n",
       "    <tr>\n",
       "      <th>3</th>\n",
       "      <td>0.701157</td>\n",
       "      <td>0.720281</td>\n",
       "      <td>0.688463</td>\n",
       "      <td>0.069005</td>\n",
       "    </tr>\n",
       "    <tr>\n",
       "      <th>4</th>\n",
       "      <td>0.553853</td>\n",
       "      <td>0.926055</td>\n",
       "      <td>0.695136</td>\n",
       "      <td>0.127980</td>\n",
       "    </tr>\n",
       "    <tr>\n",
       "      <th>5</th>\n",
       "      <td>0.284643</td>\n",
       "      <td>0.739335</td>\n",
       "      <td>0.136035</td>\n",
       "      <td>0.079802</td>\n",
       "    </tr>\n",
       "    <tr>\n",
       "      <th>6</th>\n",
       "      <td>0.680713</td>\n",
       "      <td>0.921836</td>\n",
       "      <td>0.614277</td>\n",
       "      <td>0.462013</td>\n",
       "    </tr>\n",
       "    <tr>\n",
       "      <th>7</th>\n",
       "      <td>0.379640</td>\n",
       "      <td>0.514616</td>\n",
       "      <td>0.160120</td>\n",
       "      <td>0.842406</td>\n",
       "    </tr>\n",
       "    <tr>\n",
       "      <th>8</th>\n",
       "      <td>0.961360</td>\n",
       "      <td>0.798438</td>\n",
       "      <td>0.924336</td>\n",
       "      <td>0.282614</td>\n",
       "    </tr>\n",
       "    <tr>\n",
       "      <th>9</th>\n",
       "      <td>0.568640</td>\n",
       "      <td>0.427049</td>\n",
       "      <td>0.720931</td>\n",
       "      <td>0.093987</td>\n",
       "    </tr>\n",
       "  </tbody>\n",
       "</table>\n",
       "</div>"
      ],
      "text/plain": [
       "          0         1         3         4\n",
       "0  0.146069  0.359899  0.448138  0.841178\n",
       "1  0.338251  0.884513  0.496961  0.889141\n",
       "2  0.746397  0.413263  0.613370  0.291693\n",
       "3  0.701157  0.720281  0.688463  0.069005\n",
       "4  0.553853  0.926055  0.695136  0.127980\n",
       "5  0.284643  0.739335  0.136035  0.079802\n",
       "6  0.680713  0.921836  0.614277  0.462013\n",
       "7  0.379640  0.514616  0.160120  0.842406\n",
       "8  0.961360  0.798438  0.924336  0.282614\n",
       "9  0.568640  0.427049  0.720931  0.093987"
      ]
     },
     "execution_count": 94,
     "metadata": {},
     "output_type": "execute_result"
    }
   ],
   "source": [
    "newdt.drop(2,axis=1)"
   ]
  },
  {
   "cell_type": "code",
   "execution_count": 97,
   "id": "c330c913-ed31-4f2f-8670-08e481fd186b",
   "metadata": {},
   "outputs": [
    {
     "data": {
      "text/html": [
       "<div>\n",
       "<style scoped>\n",
       "    .dataframe tbody tr th:only-of-type {\n",
       "        vertical-align: middle;\n",
       "    }\n",
       "\n",
       "    .dataframe tbody tr th {\n",
       "        vertical-align: top;\n",
       "    }\n",
       "\n",
       "    .dataframe thead th {\n",
       "        text-align: right;\n",
       "    }\n",
       "</style>\n",
       "<table border=\"1\" class=\"dataframe\">\n",
       "  <thead>\n",
       "    <tr style=\"text-align: right;\">\n",
       "      <th></th>\n",
       "      <th>0</th>\n",
       "      <th>1</th>\n",
       "      <th>2</th>\n",
       "      <th>3</th>\n",
       "      <th>4</th>\n",
       "    </tr>\n",
       "  </thead>\n",
       "  <tbody>\n",
       "    <tr>\n",
       "      <th>0</th>\n",
       "      <td>0.146069</td>\n",
       "      <td>0.359899</td>\n",
       "      <td>0.591524</td>\n",
       "      <td>0.448138</td>\n",
       "      <td>0.841178</td>\n",
       "    </tr>\n",
       "    <tr>\n",
       "      <th>1</th>\n",
       "      <td>0.338251</td>\n",
       "      <td>0.884513</td>\n",
       "      <td>0.841140</td>\n",
       "      <td>0.496961</td>\n",
       "      <td>0.889141</td>\n",
       "    </tr>\n",
       "    <tr>\n",
       "      <th>2</th>\n",
       "      <td>0.746397</td>\n",
       "      <td>0.413263</td>\n",
       "      <td>0.639694</td>\n",
       "      <td>0.613370</td>\n",
       "      <td>0.291693</td>\n",
       "    </tr>\n",
       "    <tr>\n",
       "      <th>3</th>\n",
       "      <td>0.701157</td>\n",
       "      <td>0.720281</td>\n",
       "      <td>0.301054</td>\n",
       "      <td>0.688463</td>\n",
       "      <td>0.069005</td>\n",
       "    </tr>\n",
       "    <tr>\n",
       "      <th>4</th>\n",
       "      <td>0.553853</td>\n",
       "      <td>0.926055</td>\n",
       "      <td>0.410952</td>\n",
       "      <td>0.695136</td>\n",
       "      <td>0.127980</td>\n",
       "    </tr>\n",
       "    <tr>\n",
       "      <th>5</th>\n",
       "      <td>0.284643</td>\n",
       "      <td>0.739335</td>\n",
       "      <td>0.900844</td>\n",
       "      <td>0.136035</td>\n",
       "      <td>0.079802</td>\n",
       "    </tr>\n",
       "    <tr>\n",
       "      <th>7</th>\n",
       "      <td>0.379640</td>\n",
       "      <td>0.514616</td>\n",
       "      <td>0.627052</td>\n",
       "      <td>0.160120</td>\n",
       "      <td>0.842406</td>\n",
       "    </tr>\n",
       "    <tr>\n",
       "      <th>8</th>\n",
       "      <td>0.961360</td>\n",
       "      <td>0.798438</td>\n",
       "      <td>0.682374</td>\n",
       "      <td>0.924336</td>\n",
       "      <td>0.282614</td>\n",
       "    </tr>\n",
       "    <tr>\n",
       "      <th>9</th>\n",
       "      <td>0.568640</td>\n",
       "      <td>0.427049</td>\n",
       "      <td>0.128035</td>\n",
       "      <td>0.720931</td>\n",
       "      <td>0.093987</td>\n",
       "    </tr>\n",
       "  </tbody>\n",
       "</table>\n",
       "</div>"
      ],
      "text/plain": [
       "          0         1         2         3         4\n",
       "0  0.146069  0.359899  0.591524  0.448138  0.841178\n",
       "1  0.338251  0.884513  0.841140  0.496961  0.889141\n",
       "2  0.746397  0.413263  0.639694  0.613370  0.291693\n",
       "3  0.701157  0.720281  0.301054  0.688463  0.069005\n",
       "4  0.553853  0.926055  0.410952  0.695136  0.127980\n",
       "5  0.284643  0.739335  0.900844  0.136035  0.079802\n",
       "7  0.379640  0.514616  0.627052  0.160120  0.842406\n",
       "8  0.961360  0.798438  0.682374  0.924336  0.282614\n",
       "9  0.568640  0.427049  0.128035  0.720931  0.093987"
      ]
     },
     "execution_count": 97,
     "metadata": {},
     "output_type": "execute_result"
    }
   ],
   "source": [
    "newdt.drop(6,axis=0)"
   ]
  },
  {
   "cell_type": "code",
   "execution_count": 98,
   "id": "6b3a16a2-a3f3-4566-a68f-2398a9006186",
   "metadata": {},
   "outputs": [],
   "source": [
    "#Matplot Library "
   ]
  },
  {
   "cell_type": "code",
   "execution_count": 99,
   "id": "d5db275b-b780-4ada-9d30-4ac9a13c2c46",
   "metadata": {},
   "outputs": [],
   "source": [
    "import matplotlib.pyplot as pl"
   ]
  },
  {
   "cell_type": "code",
   "execution_count": 126,
   "id": "e86e7578-7c46-4a57-ab64-a12ed00fe082",
   "metadata": {},
   "outputs": [],
   "source": [
    "x = [1,2,3,4]\n",
    "y = [9,8,7,6]"
   ]
  },
  {
   "cell_type": "code",
   "execution_count": 129,
   "id": "fda1d021-ea5f-4db1-b794-26d02e17e68b",
   "metadata": {},
   "outputs": [
    {
     "data": {
      "image/png": "[encoded data removed]",
      "text/plain": [
       "<Figure size 640x480 with 1 Axes>"
      ]
     },
     "metadata": {},
     "output_type": "display_data"
    }
   ],
   "source": [
    "pl.xlabel(\"X-axis\")\n",
    "pl.ylabel(\"Y-axis\")\n",
    "pl.plot(x,y)\n",
    "pl.plot(x,y,'r',linewidth=2,linestyle='dashdot')\n",
    "pl.show()"
   ]
  },
  {
   "cell_type": "code",
   "execution_count": 131,
   "id": "9636b308-4f69-4398-a026-0d6f86910623",
   "metadata": {},
   "outputs": [
    {
     "data": {
      "image/png": "[encoded data removed]",
      "text/plain": [
       "<Figure size 640x480 with 1 Axes>"
      ]
     },
     "metadata": {},
     "output_type": "display_data"
    }
   ],
   "source": [
    "pl.xlabel(\"X-axis\")\n",
    "pl.ylabel(\"Y-axis\")\n",
    "pl.plot(x,y)\n",
    "pl.plot(x,y,'r',linewidth=2,linestyle='dashed')\n",
    "pl.show()"
   ]
  },
  {
   "cell_type": "code",
   "execution_count": 132,
   "id": "89674401-4d6e-4d80-a911-caff424690fd",
   "metadata": {},
   "outputs": [],
   "source": [
    "#using Marker"
   ]
  },
  {
   "cell_type": "code",
   "execution_count": 133,
   "id": "9f4a8ea0-1474-4254-90e8-c40d47af36a4",
   "metadata": {},
   "outputs": [
    {
     "data": {
      "image/png": "[encoded data removed]",
      "text/plain": [
       "<Figure size 640x480 with 1 Axes>"
      ]
     },
     "metadata": {},
     "output_type": "display_data"
    }
   ],
   "source": [
    "pl.xlabel(\"X-axis\")\n",
    "pl.ylabel(\"Y-axis\")\n",
    "pl.plot(x,y)\n",
    "pl.plot(x,y,'r',marker='d')\n",
    "pl.show()"
   ]
  },
  {
   "cell_type": "code",
   "execution_count": 134,
   "id": "424c7a3c-735d-417c-9618-b42c1dadb5b0",
   "metadata": {},
   "outputs": [
    {
     "data": {
      "image/png": "[encoded data removed]",
      "text/plain": [
       "<Figure size 640x480 with 1 Axes>"
      ]
     },
     "metadata": {},
     "output_type": "display_data"
    }
   ],
   "source": [
    "pl.xlabel(\"X-axis\")\n",
    "pl.ylabel(\"Y-axis\")\n",
    "pl.plot(x,y)\n",
    "pl.plot(x,y,'r',marker='D')\n",
    "pl.show()"
   ]
  },
  {
   "cell_type": "code",
   "execution_count": 135,
   "id": "ffc8528d-b069-4d0f-b211-4cfd67251671",
   "metadata": {},
   "outputs": [
    {
     "data": {
      "image/png": "[encoded data removed]",
      "text/plain": [
       "<Figure size 640x480 with 1 Axes>"
      ]
     },
     "metadata": {},
     "output_type": "display_data"
    }
   ],
   "source": [
    "pl.xlabel(\"X-axis\")\n",
    "pl.ylabel(\"Y-axis\")\n",
    "pl.plot(x,y)\n",
    "pl.plot(x,y,'r',marker='s')\n",
    "pl.show()"
   ]
  },
  {
   "cell_type": "code",
   "execution_count": 136,
   "id": "187e91cc-ba3f-4a1e-8c43-bd56d955e011",
   "metadata": {},
   "outputs": [],
   "source": [
    "#no marker"
   ]
  },
  {
   "cell_type": "code",
   "execution_count": 138,
   "id": "7873bf87-843e-466b-ae5b-6c908f73b695",
   "metadata": {},
   "outputs": [
    {
     "data": {
      "image/png": "[encoded data removed]",
      "text/plain": [
       "<Figure size 640x480 with 1 Axes>"
      ]
     },
     "metadata": {},
     "output_type": "display_data"
    }
   ],
   "source": [
    "pl.xlabel(\"X-axis\")\n",
    "pl.ylabel(\"Y-axis\")\n",
    "pl.plot(x,y)\n",
    "pl.plot(x,y,'b')\n",
    "apl.show()"
   ]
  },
  {
   "cell_type": "code",
   "execution_count": 139,
   "id": "0a17fab0-6e8a-45fc-b113-d235a3e4d144",
   "metadata": {},
   "outputs": [
    {
     "data": {
      "image/png": "[encoded data removed]",
      "text/plain": [
       "<Figure size 640x480 with 1 Axes>"
      ]
     },
     "metadata": {},
     "output_type": "display_data"
    }
   ],
   "source": [
    "pl.xlabel(\"X-axis\")\n",
    "pl.ylabel(\"Y-axis\")\n",
    "pl.plot(x,y)\n",
    "pl.plot(x,y,'b',marker='d', markeredgecolor='red')\n",
    "pl.show()"
   ]
  },
  {
   "cell_type": "code",
   "execution_count": 140,
   "id": "b77865a5-00f6-44af-8917-11bc85eef076",
   "metadata": {},
   "outputs": [
    {
     "data": {
      "image/png": "[encoded data removed]",
      "text/plain": [
       "<Figure size 640x480 with 1 Axes>"
      ]
     },
     "metadata": {},
     "output_type": "display_data"
    }
   ],
   "source": [
    "pl.xlabel(\"X-axis\")\n",
    "pl.ylabel(\"Y-axis\")\n",
    "pl.plot(x,y)\n",
    "pl.plot(x,y,'b',marker='+', markeredgecolor='red')\n",
    "pl.show()"
   ]
  },
  {
   "cell_type": "code",
   "execution_count": 141,
   "id": "139fa10d-4ae4-41ac-b9d5-32d791b6218d",
   "metadata": {},
   "outputs": [],
   "source": [
    "#Display labels"
   ]
  },
  {
   "cell_type": "code",
   "execution_count": 193,
   "id": "25b367fe-a471-4c81-9229-fe318344f4be",
   "metadata": {},
   "outputs": [
    {
     "data": {
      "image/png": "[encoded data removed]",
      "text/plain": [
       "<Figure size 640x480 with 1 Axes>"
      ]
     },
     "metadata": {},
     "output_type": "display_data"
    }
   ],
   "source": [
    "x=[5,8,10]\n",
    "y=[3,4,9]\n",
    "x1=[4,5,6]\n",
    "y1=[7,5,4]\n",
    "pl.xlabel(\"X-axis\")\n",
    "pl.ylabel(\"Y-axis\")\n",
    "pl.plot(x,y)\n",
    "pl.plot(x,y,'b',linewidth=3,label=\"AIML\")\n",
    "pl.plot(x1,y1,'r',linewidth=3,label=\"IOT\")\n",
    "pl.legend()\n",
    "pl.show()"
   ]
  },
  {
   "cell_type": "code",
   "execution_count": 154,
   "id": "16072f99-fc12-4e2b-9bb7-0459d56d3881",
   "metadata": {},
   "outputs": [],
   "source": [
    "#Demonstration of grid view"
   ]
  },
  {
   "cell_type": "code",
   "execution_count": 161,
   "id": "d33dd3a6-c7f6-47fd-935e-15ea4bc703c7",
   "metadata": {},
   "outputs": [
    {
     "data": {
      "image/png": "[encoded data removed]",
      "text/plain": [
       "<Figure size 640x480 with 1 Axes>"
      ]
     },
     "metadata": {},
     "output_type": "display_data"
    }
   ],
   "source": [
    "from matplotlib import style\n",
    "style.use('ggplot')\n",
    "x2 = [6, 9, 11]\n",
    "y = [5, 8, 10]\n",
    "x = [12, 6, 6]\n",
    "y2 = [6, 14, 8]\n",
    "\n",
    "pl.xlabel(\"X-axis\")\n",
    "pl.ylabel(\"Y-axis\")\n",
    "pl.plot(x,y,linewidth=3, label=\"sub1\")\n",
    "pl.plot(x2,y2,linewidth=3, label=\"sub2\")\n",
    "pl.grid(True, color = 'k')\n",
    "pl.legend()\n",
    "pl.show()\n"
   ]
  },
  {
   "cell_type": "code",
   "execution_count": 162,
   "id": "15023ffb-9599-4425-9868-79536cbdebf0",
   "metadata": {},
   "outputs": [],
   "source": [
    "#Bar graph"
   ]
  },
  {
   "cell_type": "code",
   "execution_count": 163,
   "id": "da8eb339-0631-4298-a61d-4b4e05047f11",
   "metadata": {},
   "outputs": [
    {
     "data": {
      "image/png": "[encoded data removed]",
      "text/plain": [
       "<Figure size 640x480 with 1 Axes>"
      ]
     },
     "metadata": {},
     "output_type": "display_data"
    }
   ],
   "source": [
    "x = [1,2,3,4]\n",
    "y = [9,8,7,6]\n",
    "pl.xlabel(\"X-axis\")\n",
    "pl.ylabel(\"Y-axis\")\n",
    "pl.bar(x,y, width=[0.1,0.2,0.3,0.4], color = 'b')\n",
    "pl.show()\n"
   ]
  },
  {
   "cell_type": "code",
   "execution_count": 164,
   "id": "cc47b5c6-618b-457e-8ec6-5a56c0ce0242",
   "metadata": {},
   "outputs": [
    {
     "data": {
      "image/png": "[encoded data removed]",
      "text/plain": [
       "<Figure size 640x480 with 1 Axes>"
      ]
     },
     "metadata": {},
     "output_type": "display_data"
    }
   ],
   "source": [
    "x = [1,2,3,4]\n",
    "y = [9,8,7,6]\n",
    "pl.xlabel(\"X-axis\")\n",
    "pl.ylabel(\"Y-axis\")\n",
    "pl.bar(x,y, width=[0.1,0.2,0.3,0.4], color = ['r','g','b','k'])\n",
    "pl.show()\n"
   ]
  },
  {
   "cell_type": "code",
   "execution_count": 165,
   "id": "fa36819d-5632-47e7-af87-093078eb50e2",
   "metadata": {},
   "outputs": [],
   "source": [
    "#Histogram"
   ]
  },
  {
   "cell_type": "code",
   "execution_count": 170,
   "id": "6106086d-d5f4-4bee-bede-f6ffaaee9079",
   "metadata": {},
   "outputs": [
    {
     "data": {
      "text/plain": [
       "Text(0.5, 1.0, 'Hostogram')"
      ]
     },
     "execution_count": 170,
     "metadata": {},
     "output_type": "execute_result"
    },
    {
     "data": {
      "image/png": "[encoded data removed]",
      "text/plain": [
       "<Figure size 640x480 with 1 Axes>"
      ]
     },
     "metadata": {},
     "output_type": "display_data"
    }
   ],
   "source": [
    "population_age = [50,30,60,76,34,29,90,100,9,8,5,23,65,34,21,54,87,98,43,56,45,99,12,10,44,35,101]\n",
    "bins = [0,10,20,30,40,50,60,70,80,90,101]\n",
    "pl.hist(population_age,bins,histtype = 'bar', rwidth=0.4)\n",
    "pl.xlabel(\"X-axis\")\n",
    "pl.ylabel(\"Y-axis\")\n",
    "pl.title(\"Hostogram\")\n"
   ]
  },
  {
   "cell_type": "code",
   "execution_count": 172,
   "id": "05498f8b-31f2-4d85-9daa-1f2c9e41a63e",
   "metadata": {},
   "outputs": [],
   "source": [
    "#Scatter plot"
   ]
  },
  {
   "cell_type": "code",
   "execution_count": 173,
   "id": "ffc2ddd0-ad86-4588-8104-9398253c59ea",
   "metadata": {},
   "outputs": [
    {
     "data": {
      "image/png": "[encoded data removed]",
      "text/plain": [
       "<Figure size 640x480 with 1 Axes>"
      ]
     },
     "metadata": {},
     "output_type": "display_data"
    }
   ],
   "source": [
    "x = [1,2,3,4,5,6]\n",
    "y = [4,6,7,6,1,4]\n",
    "pl.scatter(x,y)\n",
    "pl.xlabel(\"X-axis\")\n",
    "pl.ylabel(\"Y-axis\")\n",
    "pl.show()\n"
   ]
  },
  {
   "cell_type": "code",
   "execution_count": 174,
   "id": "45b4992f-1211-40fe-aed2-8971f0789c05",
   "metadata": {},
   "outputs": [],
   "source": [
    "#pie chart"
   ]
  },
  {
   "cell_type": "code",
   "execution_count": 177,
   "id": "c799b23a-d84b-47e8-aa9b-f3bc4d6b923f",
   "metadata": {},
   "outputs": [
    {
     "data": {
      "image/png": "[encoded data removed]",
      "text/plain": [
       "<Figure size 640x480 with 1 Axes>"
      ]
     },
     "metadata": {},
     "output_type": "display_data"
    }
   ],
   "source": [
    "slices = [8,3,3,12]\n",
    "subjects = ['Math','Science','German','Hindi']\n",
    "cols = ['g','m','r','b']\n",
    "pl.pie(slices, labels = subjects, colors = cols, startangle = 90)\n",
    "pl.show()\n"
   ]
  },
  {
   "cell_type": "code",
   "execution_count": 180,
   "id": "607ec01b-1964-42d2-b315-b8507b45fc41",
   "metadata": {},
   "outputs": [
    {
     "data": {
      "image/png": "[encoded data removed]",
      "text/plain": [
       "<Figure size 640x480 with 1 Axes>"
      ]
     },
     "metadata": {},
     "output_type": "display_data"
    }
   ],
   "source": [
    "slices = [8,3,3,12]\n",
    "subjects = ['Math','Science','German','Hindi']\n",
    "cols = ['g','m','r','b']\n",
    "pl.pie(slices, labels = subjects, colors = cols, startangle = 120, shadow = True, autopct = '%1.1f%%')\n",
    "pl.show()\n"
   ]
  },
  {
   "cell_type": "code",
   "execution_count": 181,
   "id": "f23e4e82-ae89-446c-8f35-d53d5edc87ec",
   "metadata": {},
   "outputs": [],
   "source": [
    "from numpy import poly1d "
   ]
  },
  {
   "cell_type": "code",
   "execution_count": 182,
   "id": "305b8d9e-2cae-4190-bf08-ca3569abe753",
   "metadata": {},
   "outputs": [],
   "source": [
    "a=poly1d([2,3,4])"
   ]
  },
  {
   "cell_type": "code",
   "execution_count": 184,
   "id": "4ad48e30-1cc8-4ff2-bbc8-e098fa44906b",
   "metadata": {},
   "outputs": [
    {
     "name": "stdout",
     "output_type": "stream",
     "text": [
      "   2\n",
      "2 x + 3 x + 4\n"
     ]
    }
   ],
   "source": [
    "print(a)"
   ]
  },
  {
   "cell_type": "code",
   "execution_count": 185,
   "id": "f5f9aad9-1d33-4427-bb6d-0db47b770998",
   "metadata": {},
   "outputs": [
    {
     "name": "stdout",
     "output_type": "stream",
     "text": [
      "   4      3      2\n",
      "4 x + 12 x + 25 x + 24 x + 16\n"
     ]
    }
   ],
   "source": [
    "print(a*a)"
   ]
  },
  {
   "cell_type": "code",
   "execution_count": null,
   "id": "4e5461f4-7e3f-4331-b1ff-aa8c250e2409",
   "metadata": {},
   "outputs": [],
   "source": []
  }
 ],
 "metadata": {
  "kernelspec": {
   "display_name": "Python 3 (ipykernel)",
   "language": "python",
   "name": "python3"
  },
  "language_info": {
   "codemirror_mode": {
    "name": "ipython",
    "version": 3
   },
   "file_extension": ".py",
   "mimetype": "text/x-python",
   "name": "python",
   "nbconvert_exporter": "python",
   "pygments_lexer": "ipython3",
   "version": "3.11.7"
  }
 },
 "nbformat": 4,
 "nbformat_minor": 5
}
